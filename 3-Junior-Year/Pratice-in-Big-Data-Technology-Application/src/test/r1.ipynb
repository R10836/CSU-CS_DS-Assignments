{
 "cells": [
  {
   "metadata": {},
   "cell_type": "code",
   "source": [
    "import pandas as pd\n",
    "\n",
    "# 读取CSV文件\n",
    "df = pd.read_csv('../data/cleaned_emails.csv')"
   ],
   "id": "5c0c859b0a52dc40",
   "outputs": [],
   "execution_count": null
  },
  {
   "metadata": {},
   "cell_type": "code",
   "source": [
    "print(df.info())\n",
    "print(\"-------------------------------------\")\n",
    "print(df.describe())\n",
    "print(\"-------------------------------------\")\n",
    "print(df.head())"
   ],
   "id": "c9155763d6f4e9cc",
   "outputs": [],
   "execution_count": null
  },
  {
   "metadata": {},
   "cell_type": "code",
   "source": [
    "from neo4j import GraphDatabase\n",
    "\n",
    "uri = \"bolt://localhost:7687\"\n",
    "username = \"neo4j\"\n",
    "password = \"\"\n",
    "\n",
    "driver = GraphDatabase.driver(uri, auth=(username, password))\n",
    "\n",
    "def test_connection():\n",
    "    with driver.session() as session:\n",
    "        result = session.run(\"RETURN 'Hello, World!' AS message\")\n",
    "        print(result.single()[\"message\"])\n",
    "\n",
    "test_connection()"
   ],
   "id": "bfe14cebc8f31b64",
   "outputs": [],
   "execution_count": null
  },
  {
   "metadata": {},
   "cell_type": "code",
   "source": [
    "# 函数定义：导入数据到Neo4j\n",
    "def load_data_to_neo4j(driver, df):\n",
    "    with driver.session() as session:\n",
    "        for index, row in df.iterrows():\n",
    "            # 创建Email节点及其与Sender和Recipient的关系\n",
    "            session.run(\"\"\"\n",
    "            MERGE (sender:Sender {name: $sender})\n",
    "            MERGE (recipient:Recipient {name: $recipient})\n",
    "            CREATE (email:Email {id: $message_id, subject: $subject, text: $text, date: $date})\n",
    "            MERGE (sender)-[:SENT]->(email)\n",
    "            MERGE (email)-[:TO]->(recipient)\n",
    "            \"\"\", parameters={\n",
    "                'sender': row['sender'],\n",
    "                'recipient': row['recipient1'],\n",
    "                'message_id': row['Message-ID'],\n",
    "                'subject': row['subject'] if pd.notna(row['subject']) else \"No Subject\",\n",
    "                'text': row['text'],\n",
    "                'date': row['date']\n",
    "            })\n",
    "\n",
    "# 调用函数，导入数据\n",
    "load_data_to_neo4j(driver, df)"
   ],
   "id": "3faf7504cd2826c9",
   "outputs": [],
   "execution_count": null
  },
  {
   "metadata": {},
   "cell_type": "code",
   "source": [
    "# 关闭驱动程序\n",
    "driver.close()"
   ],
   "id": "f99d1096877ef73",
   "outputs": [],
   "execution_count": null
  }
 ],
 "metadata": {
  "kernelspec": {
   "display_name": "Python 3",
   "language": "python",
   "name": "python3"
  },
  "language_info": {
   "codemirror_mode": {
    "name": "ipython",
    "version": 2
   },
   "file_extension": ".py",
   "mimetype": "text/x-python",
   "name": "python",
   "nbconvert_exporter": "python",
   "pygments_lexer": "ipython2",
   "version": "2.7.6"
  }
 },
 "nbformat": 4,
 "nbformat_minor": 5
}
