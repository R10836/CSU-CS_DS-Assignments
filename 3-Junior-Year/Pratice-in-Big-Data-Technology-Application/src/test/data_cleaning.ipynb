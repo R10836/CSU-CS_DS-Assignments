{
 "cells": [
  {
   "cell_type": "code",
   "id": "initial_id",
   "metadata": {
    "collapsed": true
   },
   "source": [
    "from sqlalchemy import create_engine\n",
    "import pandas as pd\n",
    "\n",
    "# 创建数据库连接\n",
    "engine = create_engine('mysql+mysqldb://:@localhost/myemail')\n",
    "\n",
    "# SQL 查询\n",
    "query = \"SELECT `Message-ID`, Date FROM emails2\"\n",
    "\n",
    "# 使用 pandas 的 read_sql 函数读取数据\n",
    "df = pd.read_sql(query, engine)\n",
    "\n",
    "# 显示 DataFrame 的前几行和列信息来验证\n",
    "print(df.head())\n",
    "print(df.columns)\n"
   ],
   "outputs": [],
   "execution_count": null
  },
  {
   "metadata": {},
   "cell_type": "code",
   "source": "print(df.shape)",
   "id": "eeabac51bbcc7e4d",
   "outputs": [],
   "execution_count": null
  },
  {
   "metadata": {},
   "cell_type": "code",
   "source": [
    "from sqlalchemy import create_engine\n",
    "import pandas as pd\n",
    "import re\n",
    "from datetime import datetime\n",
    "\n",
    "# 定义日期时间解析函数\n",
    "def parse_date(date_str):\n",
    "    date_pattern = r'\\d{1,2} \\w{3} \\d{4} \\d{2}:\\d{2}:\\d{2}'\n",
    "    match = re.search(date_pattern, date_str)\n",
    "    if match:\n",
    "        return datetime.strptime(match.group(), '%d %b %Y %H:%M:%S')\n",
    "    return None\n",
    "\n",
    "# 应用函数解析日期时间\n",
    "df['Parsed_Date'] = df['Date'].apply(parse_date)\n"
   ],
   "id": "7b2eb7c60c4f6b6c",
   "outputs": [],
   "execution_count": null
  },
  {
   "metadata": {},
   "cell_type": "code",
   "source": [
    "print(df.head())\n",
    "print(df.columns)\n",
    "print(df.shape)"
   ],
   "id": "ebaa806fa23018b0",
   "outputs": [],
   "execution_count": null
  },
  {
   "metadata": {},
   "cell_type": "code",
   "source": "from sqlalchemy.sql import text",
   "id": "ecdcf2f8caaa8b33",
   "outputs": [],
   "execution_count": null
  },
  {
   "metadata": {},
   "cell_type": "code",
   "source": [
    "with engine.connect() as connection:\n",
    "    first_parsed_date = df['Parsed_Date'].iloc[0]\n",
    "    update_query = text(\"UPDATE emails2 SET Time = :time ORDER BY `Message-ID` LIMIT 1\")\n",
    "    connection.execute(update_query, {'time': first_parsed_date})\n"
   ],
   "id": "ccd7bd235adfbe8b",
   "outputs": [],
   "execution_count": null
  }
 ],
 "metadata": {
  "kernelspec": {
   "display_name": "Python 3",
   "language": "python",
   "name": "python3"
  },
  "language_info": {
   "codemirror_mode": {
    "name": "ipython",
    "version": 2
   },
   "file_extension": ".py",
   "mimetype": "text/x-python",
   "name": "python",
   "nbconvert_exporter": "python",
   "pygments_lexer": "ipython2",
   "version": "2.7.6"
  }
 },
 "nbformat": 4,
 "nbformat_minor": 5
}
