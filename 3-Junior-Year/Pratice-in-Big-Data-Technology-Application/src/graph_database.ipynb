{
 "cells": [
  {
   "cell_type": "code",
   "id": "initial_id",
   "metadata": {
    "collapsed": true
   },
   "source": [
    "import pandas as pd\n",
    "from sqlalchemy import create_engine\n",
    "\n",
    "# 数据库配置\n",
    "database_username = ''\n",
    "database_password = ''\n",
    "database_ip       = '127.0.0.1'\n",
    "database_name     = 'myemail'\n",
    "database_connection = f'mysql+pymysql://{database_username}:{database_password}@{database_ip}/{database_name}'\n",
    "\n",
    "# 创建数据库引擎\n",
    "engine = create_engine(database_connection)\n",
    "\n",
    "# 从数据库读取表到DataFrame\n",
    "df = pd.read_sql_table('emails2', con=engine)\n",
    "print(df.shape)\n",
    "\n",
    "# 关闭数据库引擎\n",
    "engine.dispose()"
   ],
   "outputs": [],
   "execution_count": null
  },
  {
   "metadata": {},
   "cell_type": "code",
   "source": [
    "# 确定新的DataFrame大小为原始大小的1/100\n",
    "sampled_size = int(len(df) / 100)\n",
    "\n",
    "# 随机抽取1/100的行\n",
    "df_sampled = df.sample(n=sampled_size, random_state=42)\n",
    "\n",
    "# 显示新DataFrame的大小和前几行数据\n",
    "print(\"新DataFrame的行数:\", len(df_sampled))\n",
    "print(df_sampled.shape)\n",
    "print(df_sampled.head())"
   ],
   "id": "f6d1b38ef87409c3",
   "outputs": [],
   "execution_count": null
  },
  {
   "metadata": {},
   "cell_type": "code",
   "source": [
    "# 确保 'Timed' 列是 datetime 类型\n",
    "df_sampled['Timed'] = pd.to_datetime(df_sampled['Timed'], errors='coerce')\n",
    "\n",
    "# 打印 'Timed' 列中的数据，检查是否有无效的时间戳\n",
    "print(\"原始 'Timed' 列数据:\")\n",
    "print(df_sampled['Timed'])"
   ],
   "id": "85e648d8ece2d06b",
   "outputs": [],
   "execution_count": null
  },
  {
   "metadata": {},
   "cell_type": "code",
   "source": [
    "from neo4j import GraphDatabase\n",
    "\n",
    "\n",
    "# 连接到 Neo4j 数据库\n",
    "uri = \"bolt://localhost:7687\"\n",
    "user = \"neo4j\"\n",
    "password = \"\"\n",
    "driver = GraphDatabase.driver(uri, auth=(user, password))\n",
    "\n",
    "def add_email(tx, message_idd, sender, recipient, subjectd, contentd, timed):\n",
    "    query = \"\"\"\n",
    "    MERGE (p1:Person {email: $sender})\n",
    "    MERGE (p2:Person {email: $recipient})\n",
    "    MERGE (p1)-[r:SENDS]->(p2)\n",
    "    ON CREATE SET r.message_idd = $message_idd, r.subjectd = $subjectd, r.contentd = $contentd, r.timed = datetime($timed), r.weight = 1\n",
    "    ON MATCH SET r.weight = r.weight + 1, r.subjectd = coalesce(r.subjectd, '') + '; ' + $subjectd, r.contentd = coalesce(r.contentd, '') + '\\\\n\\\\n' + $contentd\n",
    "    \"\"\"\n",
    "    tx.run(query, message_idd=message_idd, sender=sender, recipient=recipient, subjectd=subjectd, contentd=contentd, timed=timed)\n",
    "\n",
    "# 将 DataFrame 中的数据添加到 Neo4j\n",
    "with driver.session() as session:\n",
    "    for index, row in df_sampled.iterrows():\n",
    "        # 确保直接引用 DataFrame 的列名\n",
    "        session.execute_write(add_email, row['Message-IDd'], row['Fromd'], row['Tod'], row['Subjectd'], row['contentd'], row['Timed'])\n",
    "\n",
    "driver.close()"
   ],
   "id": "8fcb86a4364144d5",
   "outputs": [],
   "execution_count": null
  }
 ],
 "metadata": {
  "kernelspec": {
   "display_name": "Python 3",
   "language": "python",
   "name": "python3"
  },
  "language_info": {
   "codemirror_mode": {
    "name": "ipython",
    "version": 2
   },
   "file_extension": ".py",
   "mimetype": "text/x-python",
   "name": "python",
   "nbconvert_exporter": "python",
   "pygments_lexer": "ipython2",
   "version": "2.7.6"
  }
 },
 "nbformat": 4,
 "nbformat_minor": 5
}
