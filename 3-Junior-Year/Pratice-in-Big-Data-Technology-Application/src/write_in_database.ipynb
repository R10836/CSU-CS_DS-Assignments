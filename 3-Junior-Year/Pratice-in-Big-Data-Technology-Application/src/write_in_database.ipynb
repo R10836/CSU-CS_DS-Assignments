{
 "cells": [
  {
   "metadata": {},
   "cell_type": "markdown",
   "source": "# 读取csv",
   "id": "bf16561f8c81b116"
  },
  {
   "metadata": {},
   "cell_type": "code",
   "source": [
    "import pandas as pd\n",
    "\n",
    "df = pd.read_csv('../data/emails_cleaned2.csv')"
   ],
   "id": "initial_id",
   "outputs": [],
   "execution_count": null
  },
  {
   "metadata": {},
   "cell_type": "code",
   "source": [
    "# 仅保留指定的列\n",
    "df = df[['Message-ID', 'From', 'To', 'Subject', 'content', 'Date']]\n"
   ],
   "id": "5c6046238032925d",
   "outputs": [],
   "execution_count": null
  },
  {
   "metadata": {},
   "cell_type": "code",
   "source": [
    "print(df.shape)\n",
    "print(\"-------------------------------------\")\n",
    "print(df.columns)\n",
    "print(\"-------------------------------------\")\n",
    "print(df.head(5))"
   ],
   "id": "cc7ed8dafa1ea4fd",
   "outputs": [],
   "execution_count": null
  },
  {
   "metadata": {},
   "cell_type": "code",
   "source": [
    "# 将所有列的空值填充后转换为字符串\n",
    "df.fillna('', inplace=True)\n",
    "df = df.applymap(str)\n",
    "\n",
    "# 计算并打印每列的最长字符数\n",
    "for column in df.columns:\n",
    "    max_length = df[column].apply(len).max()\n",
    "    print(f\"最长的 '{column}' 列字符数：\", max_length)"
   ],
   "id": "bc51b6d2fd72f93b",
   "outputs": [],
   "execution_count": null
  },
  {
   "metadata": {},
   "cell_type": "code",
   "source": [
    "df_subset = df[['From', 'To']].copy()\n",
    "# 计算每列 ',' 出现的次数\n",
    "df_subset['at_count_from'] = df_subset['From'].apply(lambda x: x.count(','))\n",
    "df_subset['at_count_to'] = df_subset['To'].apply(lambda x: x.count(','))\n",
    "\n",
    "# 找出 ',' 出现次数最多的行\n",
    "max_at_from = df_subset['at_count_from'].max() + 1\n",
    "max_at_to = df_subset['at_count_to'].max() + 1\n",
    "\n",
    "# 打印最多 ',' 的行\n",
    "max_at_from_rows = df_subset[df_subset['at_count_from'] == max_at_from]\n",
    "max_at_to_rows = df_subset[df_subset['at_count_to'] == max_at_to]\n",
    "\n",
    "print(\"在 'From' 列中，',' 最多出现了\", max_at_from, \"次，对应的行信息如下：\")\n",
    "print(max_at_from_rows)\n",
    "print(\"\\n在 'To' 列中，',' 最多出现了\", max_at_to, \"次，对应的行信息如下：\")\n",
    "print(max_at_to_rows)"
   ],
   "id": "3e9987d30d798de9",
   "outputs": [],
   "execution_count": null
  },
  {
   "metadata": {},
   "cell_type": "code",
   "source": [
    "# 将 'To' 列中的收件人地址分割，假设收件人之间用逗号分隔\n",
    "df['To'] = df['To'].str.split(', ')\n",
    "\n",
    "# 使用 explode 方法将 'To' 列中的列表展开成多行\n",
    "df = df.explode('To')\n",
    "\n",
    "# 检查结果\n",
    "print(df.shape)"
   ],
   "id": "748e58ca3bb47c77",
   "outputs": [],
   "execution_count": null
  },
  {
   "metadata": {},
   "cell_type": "code",
   "source": [
    "df_subset = df[['From', 'To']].copy()\n",
    "# 计算每列 ',' 出现的次数\n",
    "df_subset['at_count_from'] = df_subset['From'].apply(lambda x: x.count(','))\n",
    "df_subset['at_count_to'] = df_subset['To'].apply(lambda x: x.count(','))\n",
    "\n",
    "# 找出 ',' 出现次数最多的行\n",
    "max_at_from = df_subset['at_count_from'].max() + 1\n",
    "max_at_to = df_subset['at_count_to'].max() + 1\n",
    "\n",
    "# 打印最多 ',' 的行\n",
    "max_at_from_rows = df_subset[df_subset['at_count_from'] == max_at_from]\n",
    "max_at_to_rows = df_subset[df_subset['at_count_to'] == max_at_to]\n",
    "\n",
    "print(\"在 'From' 列中，',' 最多出现了\", max_at_from, \"次，对应的行信息如下：\")\n",
    "print(max_at_from_rows)\n",
    "print(\"\\n在 'To' 列中，',' 最多出现了\", max_at_to, \"次，对应的行信息如下：\")\n",
    "print(max_at_to_rows)"
   ],
   "id": "181de77d870c4b48",
   "outputs": [],
   "execution_count": null
  },
  {
   "metadata": {},
   "cell_type": "code",
   "source": [
    "# 统计 'To' 和 'From' 列为空字符串的行数\n",
    "empty_to = df[df['To'] == '']\n",
    "empty_from = df[df['From'] == '']\n",
    "print(f\"'To' 列为空的行数: {len(empty_to)}\")\n",
    "print(f\"'From' 列为空的行数: {len(empty_from)}\")"
   ],
   "id": "2a21ef3856101d56",
   "outputs": [],
   "execution_count": null
  },
  {
   "metadata": {},
   "cell_type": "code",
   "source": [
    "# 删除 'To' 或 'From' 列为空字符串的行\n",
    "df = df[~((df['To'] == '') | (df['From'] == ''))]\n",
    "\n",
    "# 显示处理后的 DataFrame 的前几行以确认更改\n",
    "print(df.shape)"
   ],
   "id": "c0da05e15c1b9e84",
   "outputs": [],
   "execution_count": null
  },
  {
   "metadata": {},
   "cell_type": "code",
   "source": [
    "# 计算并打印每列的最长字符数\n",
    "for column in df.columns:\n",
    "    max_length = df[column].apply(len).max()\n",
    "    print(f\"最长的 '{column}' 列字符数：\", max_length)"
   ],
   "id": "27f72ae0c617a6b8",
   "outputs": [],
   "execution_count": null
  },
  {
   "metadata": {},
   "cell_type": "code",
   "source": [
    "import re\n",
    "from datetime import datetime\n",
    "\n",
    "# 定义日期时间解析函数\n",
    "def parse_date(date_str):\n",
    "    date_pattern = r'\\d{1,2} \\w{3} \\d{4} \\d{2}:\\d{2}:\\d{2}'\n",
    "    match = re.search(date_pattern, date_str)\n",
    "    if match:\n",
    "        return datetime.strptime(match.group(), '%d %b %Y %H:%M:%S')\n",
    "    return None\n"
   ],
   "id": "3f4297748e86d5e9",
   "outputs": [],
   "execution_count": null
  },
  {
   "metadata": {},
   "cell_type": "code",
   "source": [
    "# 新增一列 'Timed' 并解析 'Date' 列\n",
    "df['Timed'] = df['Date'].apply(parse_date)\n"
   ],
   "id": "db8fef0b4170f01c",
   "outputs": [],
   "execution_count": null
  },
  {
   "metadata": {},
   "cell_type": "code",
   "source": [
    "print(df.shape)\n",
    "print(\"-------------------------------------\")\n",
    "print(df.columns)\n",
    "print(\"-------------------------------------\")\n",
    "print(df.head(5))"
   ],
   "id": "bdcf48dbfdc42934",
   "outputs": [],
   "execution_count": null
  },
  {
   "metadata": {},
   "cell_type": "code",
   "source": [
    "from sqlalchemy import create_engine, text\n",
    "from sqlalchemy.dialects.mysql import LONGTEXT  # 导入LONGTEXT类型\n",
    "from sqlalchemy.types import DATETIME  # 导入DATETIME类型\n",
    "\n",
    "\n",
    "# 将 'Subject' 列的内容限制为 255 个字符\n",
    "df['Subject'] = df['Subject'].apply(lambda x: x[:255] if isinstance(x, str) else x)\n",
    "\n",
    "# 数据库配置\n",
    "database_username = ''\n",
    "database_password = ''\n",
    "database_ip       = '127.0.0.1'\n",
    "database_name     = 'myemail'\n",
    "database_connection = f'mysql+pymysql://{database_username}:{database_password}@{database_ip}/{database_name}'\n",
    "\n",
    "# 创建数据库引擎\n",
    "engine = create_engine(database_connection)\n",
    "\n",
    "# 在数据库中创建表并设置正确的字段类型\n",
    "sql_create_table = \"\"\"\n",
    "    CREATE TABLE IF NOT EXISTS emails2 (\n",
    "        `Message-ID` VARCHAR(255) NOT NULL,\n",
    "        `From` VARCHAR(255) NOT NULL,\n",
    "        `To` VARCHAR(255) NOT NULL,\n",
    "        `Subject` VARCHAR(255) DEFAULT NULL,\n",
    "        `content` LONGTEXT,\n",
    "        `Date` VARCHAR(50) NOT NULL,\n",
    "        `Timed` DATETIME\n",
    "    )\n",
    "\"\"\"\n",
    "with engine.connect() as conn:\n",
    "    conn.execute(text(sql_create_table))\n",
    "\n",
    "# 指定列数据类型，尤其是对于长文本\n",
    "column_types = {\n",
    "    'content': LONGTEXT,\n",
    "    'Timed': DATETIME  # 使用SQLAlchemy的DATETIME类型\n",
    "}\n",
    "\n",
    "# DataFrame导入MySQL\n",
    "df.to_sql(name='emails2', con=engine, if_exists='replace', index=False, chunksize=500, dtype=column_types)\n",
    "\n",
    "print(\"数据已成功导入到MySQL数据库中的'emails'表。\")"
   ],
   "id": "d37c27e26c2ef7bc",
   "outputs": [],
   "execution_count": null
  },
  {
   "metadata": {},
   "cell_type": "code",
   "source": [
    "# 关闭数据库引擎\n",
    "engine.dispose()"
   ],
   "id": "70661d0745bae3f0",
   "outputs": [],
   "execution_count": null
  }
 ],
 "metadata": {
  "kernelspec": {
   "display_name": "Python 3",
   "language": "python",
   "name": "python3"
  },
  "language_info": {
   "codemirror_mode": {
    "name": "ipython",
    "version": 2
   },
   "file_extension": ".py",
   "mimetype": "text/x-python",
   "name": "python",
   "nbconvert_exporter": "python",
   "pygments_lexer": "ipython2",
   "version": "2.7.6"
  }
 },
 "nbformat": 4,
 "nbformat_minor": 5
}
