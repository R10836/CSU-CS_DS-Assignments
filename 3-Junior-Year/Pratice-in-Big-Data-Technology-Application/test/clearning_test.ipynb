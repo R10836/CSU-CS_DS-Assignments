{
 "cells": [
  {
   "cell_type": "code",
   "id": "initial_id",
   "metadata": {
    "collapsed": true
   },
   "source": [
    "import pandas as pd\n",
    "\n",
    "df = pd.read_csv('../data/emails_cleaned2.csv')"
   ],
   "outputs": [],
   "execution_count": null
  },
  {
   "metadata": {},
   "cell_type": "code",
   "source": [
    "print(df.shape)\n",
    "print(\"-------------------------------------\")\n",
    "print(df.columns)\n",
    "print(\"-------------------------------------\")\n",
    "print(df.head(5))"
   ],
   "id": "ca5f74c84ce14c03",
   "outputs": [],
   "execution_count": null
  },
  {
   "metadata": {},
   "cell_type": "markdown",
   "source": "https://www.kaggle.com/code/aakashsuresh2004/preprocessing-enron-datasets/output",
   "id": "3ac58aee63660224"
  }
 ],
 "metadata": {
  "kernelspec": {
   "display_name": "Python 3",
   "language": "python",
   "name": "python3"
  },
  "language_info": {
   "codemirror_mode": {
    "name": "ipython",
    "version": 2
   },
   "file_extension": ".py",
   "mimetype": "text/x-python",
   "name": "python",
   "nbconvert_exporter": "python",
   "pygments_lexer": "ipython2",
   "version": "2.7.6"
  }
 },
 "nbformat": 4,
 "nbformat_minor": 5
}
