{
 "cells": [
  {
   "metadata": {},
   "cell_type": "markdown",
   "source": "# 入门",
   "id": "cf9b7478495f1273"
  },
  {
   "cell_type": "code",
   "id": "initial_id",
   "metadata": {
    "collapsed": true
   },
   "source": [
    "import torch\n",
    "\n",
    "x = torch.arange(12)\n",
    "print(x)\n",
    "print(x.shape)\n",
    "print(x.numel())\n",
    "\n",
    "X = x.reshape(3, 4)\n",
    "print(X)\n",
    "print(X.shape)\n",
    "print(X.numel())"
   ],
   "outputs": [],
   "execution_count": null
  },
  {
   "metadata": {},
   "cell_type": "code",
   "source": [
    "x1 = torch.zeros((2, 3, 4))  #（几张表，几行，几列）；（几行，几列）；（几列）： 列->行->张\n",
    "x2 = torch.ones((2, 3, 4))\n",
    "x3 = torch.randn((2, 3, 4))\n",
    "ten_list = [[[1, 2, 3, 4], [5, 6, 7, 8], [9, 10, 11, 12]], [[13, 14, 15, 16], [17, 18, 19, 20], [21, 22, 23, 24]]]\n",
    "x4 = torch.tensor(ten_list)\n",
    "\n",
    "print(x1, x2, x3, x4, sep=\"\\n\\n\")"
   ],
   "id": "f67b1ae2b70e19bb",
   "outputs": [],
   "execution_count": null
  },
  {
   "metadata": {},
   "cell_type": "markdown",
   "source": "# 运算符",
   "id": "b23eeba5c5b9aba9"
  },
  {
   "metadata": {},
   "cell_type": "code",
   "source": [
    "a = torch.tensor([1, 2, 3.01, 4])\n",
    "b = torch.tensor([2, 2, 2, 2])\n",
    "print(a+b, a-b, a*b, a/b, a**b, torch.exp(a), sep=\"\\n\")\n",
    "print(a == b)\n",
    "print(a.sum(), b.sum())"
   ],
   "id": "16892049b5176179",
   "outputs": [],
   "execution_count": null
  },
  {
   "metadata": {},
   "cell_type": "code",
   "source": [
    "a0 = torch.zeros(2, 5)\n",
    "a1 = torch.ones(2, 5)\n",
    "print(torch.cat((a0, a1), dim=0), torch.cat((a0, a1), dim=1), sep=\"\\n\\n\")\n",
    "# dim=0: 行\n",
    "# dim=1: 列"
   ],
   "id": "954a20cc029c30c5",
   "outputs": [],
   "execution_count": null
  },
  {
   "metadata": {},
   "cell_type": "markdown",
   "source": "# 广播机制",
   "id": "8ceefe3a04c3fd8b"
  },
  {
   "metadata": {},
   "cell_type": "code",
   "source": [
    "q = torch.arange(3).reshape((3, 1))\n",
    "p = torch.arange(2).reshape((1, 2))\n",
    "print(q, p, q+p, sep=\"\\n\\n\")\n",
    "# q复制列，p复制行，然后相加"
   ],
   "id": "3b3eff0af3c07c6c",
   "outputs": [],
   "execution_count": null
  },
  {
   "metadata": {},
   "cell_type": "markdown",
   "source": "# 索引和切片",
   "id": "cd2f1a82c96635b6"
  },
  {
   "metadata": {},
   "cell_type": "code",
   "source": "print(X)",
   "id": "9442e4e83fa397a6",
   "outputs": [],
   "execution_count": null
  },
  {
   "metadata": {},
   "cell_type": "code",
   "source": [
    "print(X[1:2])\n",
    "print(X[-1])\n",
    "\n",
    "print(X[1, 2])\n",
    "X[1, 2] = 10086\n",
    "print(X)\n",
    "X[1:2, 1:3] = -99\n",
    "print(X)"
   ],
   "id": "9e1b9271c498835b",
   "outputs": [],
   "execution_count": null
  },
  {
   "metadata": {},
   "cell_type": "markdown",
   "source": "# 节省内存",
   "id": "891b4102121a9143"
  },
  {
   "metadata": {},
   "cell_type": "markdown",
   "source": "# 转换为其他python对象",
   "id": "417cc81b46cdc4fb"
  },
  {
   "metadata": {},
   "cell_type": "code",
   "source": [
    "A = X.numpy()\n",
    "B = torch.tensor(A)\n",
    "\n",
    "print(A, type(A))\n",
    "print(B, type(B))"
   ],
   "id": "e8b9fdc5080f6596",
   "outputs": [],
   "execution_count": null
  },
  {
   "metadata": {},
   "cell_type": "code",
   "source": [
    "s = torch.tensor([1.2345])\n",
    "print(s, s.item(), float(s), int(s), sep=\"\\n\\n\")"
   ],
   "id": "54dba4c66ce02e2e",
   "outputs": [],
   "execution_count": null
  }
 ],
 "metadata": {
  "kernelspec": {
   "display_name": "Python 3",
   "language": "python",
   "name": "python3"
  },
  "language_info": {
   "codemirror_mode": {
    "name": "ipython",
    "version": 2
   },
   "file_extension": ".py",
   "mimetype": "text/x-python",
   "name": "python",
   "nbconvert_exporter": "python",
   "pygments_lexer": "ipython2",
   "version": "2.7.6"
  }
 },
 "nbformat": 4,
 "nbformat_minor": 5
}
