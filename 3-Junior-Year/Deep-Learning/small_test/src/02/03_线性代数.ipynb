{
 "cells": [
  {
   "metadata": {},
   "cell_type": "code",
   "source": "import torch",
   "id": "98710f68f653dc5",
   "outputs": [],
   "execution_count": null
  },
  {
   "metadata": {},
   "cell_type": "markdown",
   "source": "# 标量",
   "id": "9afaec4dafd59cfa"
  },
  {
   "metadata": {},
   "cell_type": "code",
   "source": [
    "x0 = torch.tensor(3)\n",
    "y0 = torch.tensor(2)\n",
    "x0 + y0, x0 * y0, x0 / y0"
   ],
   "id": "3fc6954f1bfe5c79",
   "outputs": [],
   "execution_count": null
  },
  {
   "metadata": {},
   "cell_type": "markdown",
   "source": "# 向量",
   "id": "1e845bfb7c7c78a9"
  },
  {
   "metadata": {},
   "cell_type": "code",
   "source": [
    "x1 = torch.arange(4)\n",
    "x1"
   ],
   "id": "9b496c3e7aaa97ee",
   "outputs": [],
   "execution_count": null
  },
  {
   "metadata": {},
   "cell_type": "code",
   "source": "x1[3]",
   "id": "c970aa66823da27d",
   "outputs": [],
   "execution_count": null
  },
  {
   "metadata": {},
   "cell_type": "code",
   "source": "len(x1)",
   "id": "fcedd132d5b6999e",
   "outputs": [],
   "execution_count": null
  },
  {
   "metadata": {},
   "cell_type": "code",
   "source": "x1.shape",
   "id": "f107a0491163ba28",
   "outputs": [],
   "execution_count": null
  },
  {
   "metadata": {},
   "cell_type": "markdown",
   "source": "# 矩阵",
   "id": "33909311f4e8aa86"
  },
  {
   "metadata": {},
   "cell_type": "code",
   "source": [
    "A = torch.arange(20).reshape(5, 4)\n",
    "A"
   ],
   "id": "d817bc8fd4fa8788",
   "outputs": [],
   "execution_count": null
  },
  {
   "metadata": {},
   "cell_type": "code",
   "source": "A.T",
   "id": "553fd091961ead2f",
   "outputs": [],
   "execution_count": null
  },
  {
   "metadata": {},
   "cell_type": "markdown",
   "source": "# 张量",
   "id": "6ed1205120a0a789"
  },
  {
   "metadata": {},
   "cell_type": "code",
   "source": [
    "X = torch.arange(24).reshape(2, 3, 4)\n",
    "X"
   ],
   "id": "a70502cb114185c1",
   "outputs": [],
   "execution_count": null
  },
  {
   "metadata": {},
   "cell_type": "markdown",
   "source": "# 张量算法的基本性质",
   "id": "f028aaa687d931ba"
  },
  {
   "metadata": {},
   "cell_type": "code",
   "source": [
    "B = A.clone()\n",
    "A, B, A+B"
   ],
   "id": "64001166773e24bd",
   "outputs": [],
   "execution_count": null
  },
  {
   "metadata": {},
   "cell_type": "code",
   "source": "A*B",
   "id": "8666a59d93bbe292",
   "outputs": [],
   "execution_count": null
  },
  {
   "metadata": {},
   "cell_type": "code",
   "source": [
    "a = 2\n",
    "X = torch.arange(24).reshape(2, 3, 4)\n",
    "a+X, a*X, (a*X).shape"
   ],
   "id": "6e42cda2e90fe332",
   "outputs": [],
   "execution_count": null
  },
  {
   "metadata": {},
   "cell_type": "markdown",
   "source": "# 降维",
   "id": "f058f70b57064a74"
  },
  {
   "metadata": {},
   "cell_type": "code",
   "source": "A, A.shape, A.sum()",
   "id": "c6110736bcd92812",
   "outputs": [],
   "execution_count": null
  },
  {
   "metadata": {},
   "cell_type": "code",
   "source": [
    "A_sum_axis0 = A.sum(axis=0)\n",
    "A_sum_axis0, A_sum_axis0.shape"
   ],
   "id": "af88ff3228df410a",
   "outputs": [],
   "execution_count": null
  },
  {
   "metadata": {},
   "cell_type": "code",
   "source": [
    "A_sum_axis1 = A.sum(axis=1)\n",
    "A_sum_axis1, A_sum_axis1.shape"
   ],
   "id": "4959df8c99b6cc32",
   "outputs": [],
   "execution_count": null
  },
  {
   "metadata": {},
   "cell_type": "code",
   "source": [
    "A.sum(axis=[0, 1])  # 结果和A.sum()相同\n",
    "# 沿着行和列对矩阵求和，等价于对矩阵的所有元素进行求和。"
   ],
   "id": "e8ad340085383b94",
   "outputs": [],
   "execution_count": null
  },
  {
   "metadata": {},
   "cell_type": "markdown",
   "source": "## 非降维求和",
   "id": "1a166b7640ada59"
  },
  {
   "metadata": {},
   "cell_type": "code",
   "source": [
    "sum_A = A.sum(axis=1, keepdims=True)\n",
    "sum_A"
   ],
   "id": "5012324aec9ce07e",
   "outputs": [],
   "execution_count": null
  },
  {
   "metadata": {},
   "cell_type": "code",
   "source": "A / sum_A",
   "id": "196b7dc0d0a10978",
   "outputs": [],
   "execution_count": null
  },
  {
   "metadata": {},
   "cell_type": "code",
   "source": "A.cumsum(axis=0)",
   "id": "52481c41858aac1b",
   "outputs": [],
   "execution_count": null
  },
  {
   "metadata": {},
   "cell_type": "markdown",
   "source": "# 点积",
   "id": "1ac2987d658d2adb"
  },
  {
   "metadata": {},
   "cell_type": "code",
   "source": [
    "x = torch.arange(4, dtype=torch.float32)\n",
    "y = torch.ones(4, dtype = torch.float32)\n",
    "x, y, torch.dot(x, y), torch.sum(x*y)"
   ],
   "id": "45b861061799f7d7",
   "outputs": [],
   "execution_count": null
  },
  {
   "metadata": {},
   "cell_type": "code",
   "source": [
    "x = torch.arange(8, dtype=torch.float32).reshape(2, 4)\n",
    "y = torch.arange(12, dtype = torch.float32).reshape(4, 3)\n",
    "x, y, torch.mm(x, y)"
   ],
   "id": "b97efa3cc255450",
   "outputs": [],
   "execution_count": null
  },
  {
   "metadata": {},
   "cell_type": "markdown",
   "source": "# 矩阵-向量积",
   "id": "ca0ca4659108181b"
  },
  {
   "metadata": {},
   "cell_type": "markdown",
   "source": "# 矩阵-矩阵乘法",
   "id": "96d1ef98da8ce324"
  },
  {
   "metadata": {},
   "cell_type": "markdown",
   "source": "# 范数",
   "id": "e91791d8dfd0cdbb"
  },
  {
   "metadata": {},
   "cell_type": "code",
   "source": "# 。。。",
   "id": "f586bfa4b211f2ef",
   "outputs": [],
   "execution_count": null
  }
 ],
 "metadata": {
  "kernelspec": {
   "display_name": "Python 3",
   "language": "python",
   "name": "python3"
  },
  "language_info": {
   "codemirror_mode": {
    "name": "ipython",
    "version": 2
   },
   "file_extension": ".py",
   "mimetype": "text/x-python",
   "name": "python",
   "nbconvert_exporter": "python",
   "pygments_lexer": "ipython2",
   "version": "2.7.6"
  }
 },
 "nbformat": 4,
 "nbformat_minor": 5
}
