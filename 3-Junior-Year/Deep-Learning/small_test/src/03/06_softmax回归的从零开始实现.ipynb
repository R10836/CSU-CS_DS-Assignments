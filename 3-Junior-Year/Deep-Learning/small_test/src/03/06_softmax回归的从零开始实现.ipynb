{
 "cells": [
  {
   "cell_type": "code",
   "id": "initial_id",
   "metadata": {
    "collapsed": true
   },
   "source": [
    "# 重构于notebooks文件夹下\n",
    "\n",
    "import torch\n",
    "from IPython import display\n",
    "from d2l import torch as d2l\n",
    "\n",
    "batch_size = 256\n",
    "train_iter, test_iter = d2l.load_data_fashion_mnist(batch_size)"
   ],
   "outputs": [],
   "execution_count": null
  },
  {
   "metadata": {},
   "cell_type": "markdown",
   "source": "# 初始化模型参数",
   "id": "46c25d5bc63649f3"
  },
  {
   "metadata": {},
   "cell_type": "code",
   "source": [
    "# 本节将展平每个图像，把它们看作长度为784的向量。 在后面的章节中，我们将讨论能够利用图像空间结构的特征， 但现在我们暂时只把每个像素位置看作一个特征。\n",
    "num_inputs = 784  # num_inputs 代表输入特征的数量。数据是从 28x28 的图像展平得到的。\n",
    "num_outputs = 10  # num_outputs 代表输出的数量。对于 FashionMNIST 数据集，这通常是类别的数量，FashionMNIST 有 10 个类别，所以输出数量为 10。\n",
    "\n",
    "W = torch.normal(0, 0.01, size=(num_inputs, num_outputs), requires_grad=True)  # 生成一个符合正态分布的张量，均值为 0，标准差为 0.01，形状为 [num_inputs, num_outputs]。这是为了初始化权重，防止初始权重全为零，导致梯度消失问题。\n",
    "b = torch.zeros(num_outputs, requires_grad=True)  # 生成一个全零的张量，形状为 [num_outputs]。这用作偏置项的初始化。\n",
    "\n",
    "# 权重 W 使用了正态分布初始化，偏置 b 初始化为零。这是一个常见的做法，用于线性分类模型或神经网络的线性层。"
   ],
   "id": "6e40ea73f5ec2946",
   "outputs": [],
   "execution_count": null
  },
  {
   "metadata": {},
   "cell_type": "markdown",
   "source": "# 定义softmax操作",
   "id": "d433db8536fc178b"
  },
  {
   "metadata": {},
   "cell_type": "code",
   "source": [
    "X = torch.tensor([[1.0, 2.0, 3.0], [4.0, 5.0, 6.0]])\n",
    "X.sum(0, keepdim=True), X.sum(1, keepdim=True)\n",
    "# X.sum(0, keepdim=True) 结果是一个形状为 [1, 3] 的张量，其中包含每列的和。\n",
    "# X.sum(1, keepdim=True) 结果是一个形状为 [2, 1] 的张量，其中包含每行的和。"
   ],
   "id": "a38b3f233c800f28",
   "outputs": [],
   "execution_count": null
  },
  {
   "metadata": {},
   "cell_type": "markdown",
   "source": [
    "Softmax 函数是用于多类分类任务中将输出概率化的一种常用函数。它通常用于神经网络的输出层，以将网络的原始输出（即未归一化的得分）转化为概率分布。\n",
    "\n",
    "### 数学公式\n",
    "\n",
    "给定一个向量 $\\mathbf{z} = [z_1, z_2, \\ldots, z_K]$，其中 $K$ 是类别的数量，Softmax 函数的输出可以用以下公式表示：\n",
    "\n",
    "$$\n",
    "\\text{Softmax}(z_i) = \\frac{e^{z_i}}{\\sum_{j=1}^K e^{z_j}}\n",
    "$$\n",
    "\n",
    "#### 公式解释\n",
    "\n",
    "- **$e^{z_i}$**：对于每个元素 $z_i$，我们首先计算它的指数函数 $e^{z_i}$。这是因为指数函数具有单调递增的性质，能够放大大值和缩小小值，从而使得结果更具区分度。\n",
    "  \n",
    "- **$\\sum_{j=1}^K e^{z_j}$**：这是所有元素 $z_j$ 的指数函数之和，作为归一化因子。它确保所有输出值的总和为 1，从而使得每个输出值都可以解释为一个概率。\n",
    "\n",
    "### 特性\n",
    "\n",
    "1. **归一化**：\n",
    "   Softmax 函数将输出转化为一个概率分布，所有输出值的总和为 1。\n",
    "\n",
    "2. **非负性**：\n",
    "   由于指数函数的输出始终是非负的，Softmax 函数的输出值也始终是非负的。\n",
    "\n",
    "3. **分类概率**：\n",
    "   每个输出值表示了输入属于该类别的概率，数值越高，表示该类别的可能性越大。\n",
    "\n",
    "### 示例\n",
    "\n",
    "假设有一个输入向量 $\\mathbf{z} = [1.0, 2.0, 3.0]$，我们可以计算 Softmax 函数的输出如下：\n",
    "\n",
    "1. **计算指数函数**：\n",
    "   $$\n",
    "   e^{z_1} = e^{1.0} \\approx 2.718\n",
    "   $$\n",
    "\n",
    "   $$\n",
    "   e^{z_2} = e^{2.0} \\approx 7.389\n",
    "   $$\n",
    "\n",
    "   $$\n",
    "   e^{z_3} = e^{3.0} \\approx 20.086\n",
    "   $$\n",
    "\n",
    "2. **计算归一化因子**：\n",
    "   $$\n",
    "   \\sum_{j=1}^3 e^{z_j} = e^{1.0} + e^{2.0} + e^{3.0} \\approx 2.718 + 7.389 + 20.086 \\approx 30.193\n",
    "   $$\n",
    "\n",
    "3. **计算 Softmax 输出**：\n",
    "   $$\n",
    "   \\text{Softmax}(z_1) = \\frac{e^{z_1}}{\\sum_{j=1}^3 e^{z_j}} \\approx \\frac{2.718}{30.193} \\approx 0.090\n",
    "   $$\n",
    "   $$\n",
    "   \\text{Softmax}(z_2) = \\frac{e^{z_2}}{\\sum_{j=1}^3 e^{z_j}} \\approx \\frac{7.389}{30.193} \\approx 0.245\n",
    "   $$\n",
    "   $$\n",
    "   \\text{Softmax}(z_3) = \\frac{e^{z_3}}{\\sum_{j=1}^3 e^{z_j}} \\approx \\frac{20.086}{30.193} \\approx 0.665\n",
    "   $$\n",
    "\n",
    "因此，Softmax 函数将输入向量 $\\mathbf{z} = [1.0, 2.0, 3.0]$ 转换为概率分布 $\\approx [0.090, 0.245, 0.665]$。"
   ],
   "id": "c7414301b5459108"
  },
  {
   "metadata": {},
   "cell_type": "code",
   "source": [
    "# 用来计算一个二维张量 X 的 Softmax 函数的。\n",
    "def softmax(X):\n",
    "    X_exp = torch.exp(X)  # 计算张量 X 中每个元素的指数值。这个步骤将原始得分转换为正的指数值，准备进行归一化。\n",
    "    partition = X_exp.sum(1, keepdim=True)  # 沿着第 1 维（即每行）计算指数值的和。计算得到的 partition 是一个形状为 [N, 1] 的张量，其中 N 是输入张量 X 的行数，表示每行的所有指数值之和。\n",
    "    return X_exp / partition  # 归一化"
   ],
   "id": "82219dc19a3b310c",
   "outputs": [],
   "execution_count": null
  },
  {
   "metadata": {},
   "cell_type": "code",
   "source": [
    "# 首先生成一个具有正态分布（均值为0，标准差为1）的随机张量 X，然后应用之前定义的 softmax 函数来计算 Softmax 概率分布，最后检查每行的概率总和是否为1。\n",
    "X = torch.normal(0, 1, (2, 5))\n",
    "X_prob = softmax(X)\n",
    "X_prob, X_prob.sum(1)"
   ],
   "id": "d317dfcbbf73aeb5",
   "outputs": [],
   "execution_count": null
  },
  {
   "metadata": {},
   "cell_type": "markdown",
   "source": [
    "# 定义模型\n",
    "\n",
    "定义softmax操作后，我们可以实现softmax回归模型。 下面的代码定义了输入如何通过网络映射到输出。 注意，将数据传递到模型之前，我们使用reshape函数将每张原始图像展平为向量。"
   ],
   "id": "fa1fce24c65b1f34"
  },
  {
   "metadata": {},
   "cell_type": "code",
   "source": [
    "def net(X):\n",
    "    return softmax(torch.matmul(X.reshape((-1, W.shape[0])), W) + b)"
   ],
   "id": "1f57e44517f31e2e",
   "outputs": [],
   "execution_count": null
  },
  {
   "metadata": {},
   "cell_type": "markdown",
   "source": "# 定义损失函数",
   "id": "8f5c0e4f4be593fe"
  },
  {
   "metadata": {},
   "cell_type": "markdown",
   "source": [
    "交叉熵损失函数是用于分类问题中的一种常见损失函数，尤其是在多类分类任务中。它衡量了预测概率分布与真实类别分布之间的差异。下面是对交叉熵损失函数的数学公式的详细讲解。\n",
    "\n",
    "### 交叉熵损失函数的数学公式\n",
    "\n",
    "#### 二分类交叉熵损失（Binary Cross-Entropy）\n",
    "\n",
    "对于二分类问题，交叉熵损失函数的公式为：\n",
    "\n",
    "$$\n",
    "\\text{Loss} = - \\left( y \\cdot \\log(p) + (1 - y) \\cdot \\log(1 - p) \\right)\n",
    "$$\n",
    "\n",
    "其中：\n",
    "- \\( y \\) 是真实标签，取值为 0 或 1。\n",
    "- \\( p \\) 是模型预测为正类的概率。\n",
    "\n",
    "**解释：**\n",
    "- 如果真实标签 \\( y \\) 为 1，则损失为 \\( - \\log(p) \\)，这是对预测概率 \\( p \\) 的负对数。\n",
    "- 如果真实标签 \\( y \\) 为 0，则损失为 \\( - \\log(1 - p) \\)，这是对预测概率 \\( 1 - p \\) 的负对数。\n",
    "\n",
    "#### 多分类交叉熵损失（Categorical Cross-Entropy）\n",
    "\n",
    "对于多分类问题，交叉熵损失函数的公式为：\n",
    "\n",
    "$$\n",
    "\\text{Loss} = - \\sum_{i=1}^{K} y_i \\cdot \\log(p_i)\n",
    "$$\n",
    "\n",
    "其中：\n",
    "- \\( K \\) 是类别的总数。\n",
    "- \\( y_i \\) 是真实标签的 one-hot 编码向量中的第 \\( i \\) 个元素，如果样本的真实类别是第 \\( i \\) 类，则 \\( y_i = 1 \\)，否则 \\( y_i = 0 \\)。\n",
    "- \\( p_i \\) 是模型对第 \\( i \\) 类的预测概率。\n",
    "\n",
    "**解释：**\n",
    "- 公式中只有真实类别的预测概率会影响损失，因为 \\( y_i \\) 只有在真实类别位置才是 1，其余位置为 0。\n",
    "- 损失是所有类别中真实标签的预测概率的负对数之和。它衡量了模型预测的概率分布与真实分布之间的差距。\n",
    "\n",
    "### 示例\n",
    "\n",
    "假设我们有一个多分类问题，有 3 个类别，真实标签 \\( y \\) 是类别 1（即 \\( y = [1, 0, 0] \\)），模型的预测概率为 \\( p = [0.1, 0.3, 0.6] \\)。\n",
    "\n",
    "**计算过程：**\n",
    "\n",
    "1. 选择真实类别的预测概率：\n",
    "   - 对于类别 1，真实标签的预测概率为 0.3。\n",
    "\n",
    "2. 计算对数：\n",
    " $$\\(\\log(0.3) \\approx -1.20397\\)$$。\n",
    "\n",
    "3. 计算交叉熵损失：\n",
    "$$\\(\\text{Loss} = - \\log(0.3) \\approx 1.20397\\)$$。\n",
    "\n",
    "### 总结\n",
    "\n",
    "交叉熵损失函数通过计算预测概率与真实标签之间的差异来评估模型的性能。它对模型的输出概率分布进行“惩罚”，如果预测概率离真实标签的概率较远，损失值会更大，从而引导模型进行更好的优化。"
   ],
   "id": "7b9cb4c0a0446f5c"
  },
  {
   "metadata": {},
   "cell_type": "code",
   "source": [
    "y = torch.tensor([0, 2])  # 是一个包含真实类别索引的张量。\n",
    "y_hat = torch.tensor([[0.1, 0.3, 0.6], [0.3, 0.2, 0.5]])  # 是模型的预测概率分布，其中每行代表一个样本的类别概率。\n",
    "y_hat[[0, 1], y]"
   ],
   "id": "bde88c275997a5bf",
   "outputs": [],
   "execution_count": null
  },
  {
   "metadata": {},
   "cell_type": "code",
   "source": [
    "def cross_entropy(y_hat, y):\n",
    "    # 定义交叉熵损失函数\n",
    "    return - torch.log(y_hat[range(len(y_hat)), y])\n",
    "\n",
    "cross_entropy(y_hat, y)"
   ],
   "id": "a1d6c3a3772f60ba",
   "outputs": [],
   "execution_count": null
  },
  {
   "metadata": {},
   "cell_type": "markdown",
   "source": [
    "# 分类精度\n",
    "\n",
    "给定预测概率分布y_hat，当我们必须输出硬预测（hard prediction）时， 我们通常选择预测概率最高的类。 许多应用都要求我们做出选择。如Gmail必须将电子邮件分类为“Primary（主要邮件）”、 “Social（社交邮件）”“Updates（更新邮件）”或“Forums（论坛邮件）”。 Gmail做分类时可能在内部估计概率，但最终它必须在类中选择一个。\n",
    "\n",
    "当预测与标签分类y一致时，即是正确的。 分类精度即正确预测数量与总预测数量之比。 虽然直接优化精度可能很困难（因为精度的计算不可导）， 但精度通常是我们最关心的性能衡量标准，我们在训练分类器时几乎总会关注它。\n",
    "\n",
    "为了计算精度，我们执行以下操作。 首先，如果y_hat是矩阵，那么假定第二个维度存储每个类的预测分数。 我们使用argmax获得每行中最大元素的索引来获得预测类别。 然后我们将预测类别与真实y元素进行比较。 由于等式运算符“==”对数据类型很敏感， 因此我们将y_hat的数据类型转换为与y的数据类型一致。 结果是一个包含0（错）和1（对）的张量。 最后，我们求和会得到正确预测的数量。"
   ],
   "id": "6eac5263d55bbf2a"
  },
  {
   "metadata": {},
   "cell_type": "code",
   "source": [
    "def accuracy(y_hat, y):  #@save\n",
    "    \"\"\"计算预测正确的数量\"\"\"\n",
    "    # 它首先将预测的概率分布转化为类别标签（如果需要的话），然后比较这些预测标签与真实标签，最终计算预测正确的数量。\n",
    "    if len(y_hat.shape) > 1 and y_hat.shape[1] > 1:\n",
    "        y_hat = y_hat.argmax(axis=1)\n",
    "    cmp = y_hat.type(y.dtype) == y\n",
    "    return float(cmp.type(y.dtype).sum())"
   ],
   "id": "2ee61ff53c60a832",
   "outputs": [],
   "execution_count": null
  },
  {
   "metadata": {},
   "cell_type": "code",
   "source": "accuracy(y_hat, y) / len(y)",
   "id": "c070b4f473605afc",
   "outputs": [],
   "execution_count": null
  },
  {
   "metadata": {},
   "cell_type": "code",
   "source": [
    "# 定义了一个用于累加和评估模型准确性的工具。\n",
    "\n",
    "\n",
    "class Accumulator:  #@save\n",
    "    \"\"\"在n个变量上累加\"\"\"\n",
    "    def __init__(self, n):\n",
    "        self.data = [0.0] * n\n",
    "\n",
    "    def add(self, *args):\n",
    "        self.data = [a + float(b) for a, b in zip(self.data, args)]\n",
    "\n",
    "    def reset(self):\n",
    "        self.data = [0.0] * len(self.data)\n",
    "\n",
    "    def __getitem__(self, idx):\n",
    "        return self.data[idx]\n",
    "\n",
    "\n",
    "def evaluate_accuracy(net, data_iter):  #@save\n",
    "    \"\"\"计算在指定数据集上模型的精度\"\"\"\n",
    "    if isinstance(net, torch.nn.Module):\n",
    "        net.eval()  # 将模型设置为评估模式\n",
    "    metric = Accumulator(2)  # 正确预测数、预测总数\n",
    "    with torch.no_grad():\n",
    "        for X, y in data_iter:\n",
    "            metric.add(accuracy(net(X), y), y.numel())\n",
    "    return metric[0] / metric[1]"
   ],
   "id": "939baca501fb883f",
   "outputs": [],
   "execution_count": null
  },
  {
   "metadata": {},
   "cell_type": "code",
   "source": "evaluate_accuracy(net, test_iter)",
   "id": "8fcc0b27a6b4ef42",
   "outputs": [],
   "execution_count": null
  },
  {
   "metadata": {},
   "cell_type": "markdown",
   "source": [
    "# 训练\n",
    "\n",
    "在我们看过 3.2节中的线性回归实现， softmax回归的训练过程代码应该看起来非常眼熟。 在这里，我们重构训练过程的实现以使其可重复使用。 首先，我们定义一个函数来训练一个迭代周期。 请注意，updater是更新模型参数的常用函数，它接受批量大小作为参数。 它可以是d2l.sgd函数，也可以是框架的内置优化函数。"
   ],
   "id": "74a29a3ab072cc55"
  },
  {
   "metadata": {},
   "cell_type": "code",
   "source": [
    "def train_epoch_ch3(net, train_iter, loss, updater):  #@save\n",
    "    \"\"\"训练模型一个迭代周期（定义见第3章）\"\"\"\n",
    "    # 将模型设置为训练模式\n",
    "    if isinstance(net, torch.nn.Module):\n",
    "        net.train()\n",
    "    # 训练损失总和、训练准确度总和、样本数\n",
    "    metric = Accumulator(3)\n",
    "    for X, y in train_iter:\n",
    "        # 计算梯度并更新参数\n",
    "        y_hat = net(X)\n",
    "        l = loss(y_hat, y)\n",
    "        if isinstance(updater, torch.optim.Optimizer):\n",
    "            # 使用PyTorch内置的优化器和损失函数\n",
    "            updater.zero_grad()\n",
    "            l.mean().backward()\n",
    "            updater.step()\n",
    "        else:\n",
    "            # 使用定制的优化器和损失函数\n",
    "            l.sum().backward()\n",
    "            updater(X.shape[0])\n",
    "        metric.add(float(l.sum()), accuracy(y_hat, y), y.numel())\n",
    "    # 返回训练损失和训练精度\n",
    "    return metric[0] / metric[2], metric[1] / metric[2]"
   ],
   "id": "29fc3f440571dd0b",
   "outputs": [],
   "execution_count": null
  },
  {
   "metadata": {},
   "cell_type": "code",
   "source": [
    "# 在展示训练函数的实现之前，我们定义一个在动画中绘制数据的实用程序类Animator， 它能够简化本书其余部分的代码。\n",
    "\n",
    "class Animator:  #@save\n",
    "    \"\"\"在动画中绘制数据\"\"\"\n",
    "    def __init__(self, xlabel=None, ylabel=None, legend=None, xlim=None,\n",
    "                 ylim=None, xscale='linear', yscale='linear',\n",
    "                 fmts=('-', 'm--', 'g-.', 'r:'), nrows=1, ncols=1,\n",
    "                 figsize=(3.5, 2.5)):\n",
    "        # 增量地绘制多条线\n",
    "        if legend is None:\n",
    "            legend = []\n",
    "        d2l.use_svg_display()\n",
    "        self.fig, self.axes = d2l.plt.subplots(nrows, ncols, figsize=figsize)\n",
    "        if nrows * ncols == 1:\n",
    "            self.axes = [self.axes, ]\n",
    "        # 使用lambda函数捕获参数\n",
    "        self.config_axes = lambda: d2l.set_axes(\n",
    "            self.axes[0], xlabel, ylabel, xlim, ylim, xscale, yscale, legend)\n",
    "        self.X, self.Y, self.fmts = None, None, fmts\n",
    "\n",
    "    def add(self, x, y):\n",
    "        # 向图表中添加多个数据点\n",
    "        if not hasattr(y, \"__len__\"):\n",
    "            y = [y]\n",
    "        n = len(y)\n",
    "        if not hasattr(x, \"__len__\"):\n",
    "            x = [x] * n\n",
    "        if not self.X:\n",
    "            self.X = [[] for _ in range(n)]\n",
    "        if not self.Y:\n",
    "            self.Y = [[] for _ in range(n)]\n",
    "        for i, (a, b) in enumerate(zip(x, y)):\n",
    "            if a is not None and b is not None:\n",
    "                self.X[i].append(a)\n",
    "                self.Y[i].append(b)\n",
    "        self.axes[0].cla()\n",
    "        for x, y, fmt in zip(self.X, self.Y, self.fmts):\n",
    "            self.axes[0].plot(x, y, fmt)\n",
    "        self.config_axes()\n",
    "        display.display(self.fig)\n",
    "        display.clear_output(wait=True)"
   ],
   "id": "a56246bafbe3c16a",
   "outputs": [],
   "execution_count": null
  },
  {
   "metadata": {},
   "cell_type": "code",
   "source": [
    "# 接下来我们实现一个训练函数， 它会在train_iter访问到的训练数据集上训练一个模型net。 该训练函数将会运行多个迭代周期（由num_epochs指定）。 在每个迭代周期结束时，利用test_iter访问到的测试数据集对模型进行评估。 我们将利用Animator类来可视化训练进度。\n",
    "\n",
    "def train_ch3(net, train_iter, test_iter, loss, num_epochs, updater):  #@save\n",
    "    \"\"\"训练模型（定义见第3章）\"\"\"\n",
    "    animator = Animator(xlabel='epoch', xlim=[1, num_epochs], ylim=[0.3, 0.9],\n",
    "                        legend=['train loss', 'train acc', 'test acc'])\n",
    "    for epoch in range(num_epochs):\n",
    "        train_metrics = train_epoch_ch3(net, train_iter, loss, updater)\n",
    "        test_acc = evaluate_accuracy(net, test_iter)\n",
    "        animator.add(epoch + 1, train_metrics + (test_acc,))\n",
    "    train_loss, train_acc = train_metrics\n",
    "    assert train_loss < 0.5, train_loss\n",
    "    assert train_acc <= 1 and train_acc > 0.7, train_acc\n",
    "    assert test_acc <= 1 and test_acc > 0.7, test_acc"
   ],
   "id": "476d034f760ecfc1",
   "outputs": [],
   "execution_count": null
  },
  {
   "metadata": {},
   "cell_type": "code",
   "source": [
    "# 作为一个从零开始的实现，我们使用 3.2节中定义的 小批量随机梯度下降来优化模型的损失函数，设置学习率为0.1。\n",
    "lr = 0.1\n",
    "\n",
    "def updater(batch_size):\n",
    "    return d2l.sgd([W, b], lr, batch_size)"
   ],
   "id": "d2bded3572d90c5b",
   "outputs": [],
   "execution_count": null
  },
  {
   "metadata": {},
   "cell_type": "code",
   "source": [
    "# 现在，我们训练模型10个迭代周期。 请注意，迭代周期（num_epochs）和学习率（lr）都是可调节的超参数。 通过更改它们的值，我们可以提高模型的分类精度。\n",
    "\n",
    "num_epochs = 10\n",
    "train_ch3(net, train_iter, test_iter, cross_entropy, num_epochs, updater)"
   ],
   "id": "df505e34880d6a1a",
   "outputs": [],
   "execution_count": null
  },
  {
   "metadata": {},
   "cell_type": "markdown",
   "source": [
    "# 预测\n",
    "\n",
    "现在训练已经完成，我们的模型已经准备好对图像进行分类预测。 给定一系列图像，我们将比较它们的实际标签（文本输出的第一行）和模型预测（文本输出的第二行）。"
   ],
   "id": "3e018ef9a656ec6f"
  },
  {
   "metadata": {},
   "cell_type": "code",
   "source": [
    "def predict_ch3(net, test_iter, n=6):  #@save\n",
    "    \"\"\"预测标签（定义见第3章）\"\"\"\n",
    "    for X, y in test_iter:\n",
    "        break\n",
    "    trues = d2l.get_fashion_mnist_labels(y)\n",
    "    preds = d2l.get_fashion_mnist_labels(net(X).argmax(axis=1))\n",
    "    titles = [true +'\\n' + pred for true, pred in zip(trues, preds)]\n",
    "    d2l.show_images(\n",
    "        X[0:n].reshape((n, 28, 28)), 1, n, titles=titles[0:n])\n",
    "\n",
    "predict_ch3(net, test_iter)"
   ],
   "id": "bedfd70407155596",
   "outputs": [],
   "execution_count": null
  }
 ],
 "metadata": {
  "kernelspec": {
   "display_name": "Python 3",
   "language": "python",
   "name": "python3"
  },
  "language_info": {
   "codemirror_mode": {
    "name": "ipython",
    "version": 2
   },
   "file_extension": ".py",
   "mimetype": "text/x-python",
   "name": "python",
   "nbconvert_exporter": "python",
   "pygments_lexer": "ipython2",
   "version": "2.7.6"
  }
 },
 "nbformat": 4,
 "nbformat_minor": 5
}
