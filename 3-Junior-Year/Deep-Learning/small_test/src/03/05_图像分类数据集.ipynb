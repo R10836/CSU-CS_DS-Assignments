{
 "cells": [
  {
   "cell_type": "code",
   "id": "initial_id",
   "metadata": {
    "collapsed": true
   },
   "source": [
    "import torch\n",
    "import torchvision\n",
    "from torch.utils import data\n",
    "from torchvision import transforms"
   ],
   "outputs": [],
   "execution_count": null
  },
  {
   "metadata": {},
   "cell_type": "markdown",
   "source": "# 读取数据集",
   "id": "4331ed3c130aa315"
  },
  {
   "metadata": {},
   "cell_type": "code",
   "source": [
    "trans = transforms.ToTensor()  # 这里定义了一个图像转换操作 trans，它会将输入的 PIL 图像转换为 PyTorch 的 Tensor 类型，同时将图像的像素值从 0 到 255 归一化到 0 到 1 之间，并转换为 32 位浮点数格式。\n",
    "\n",
    "mnist_train = torchvision.datasets.FashionMNIST(root=\"../../data\", train=True, transform=trans, download=True)  # 加载了 FashionMNIST 数据集的训练部分\n",
    "mnist_test = torchvision.datasets.FashionMNIST(root=\"../../data\", train=False, transform=trans, download=True)  # 加载测试集加载了 FashionMNIST 数据集的测试部分，参数解释与加载训练集时相同，只是 train=False 表示加载测试集数据。"
   ],
   "id": "69435a71df75947b",
   "outputs": [],
   "execution_count": null
  },
  {
   "metadata": {},
   "cell_type": "markdown",
   "source": [
    "FashionMNIST 数据集是一个由 Zalando 公司发布的图像数据集，用于替代经典的 MNIST 数据集。MNIST 数据集包含手写数字的图像，而 FashionMNIST 数据集包含的是各种服装商品的图像。这个数据集被广泛用于机器学习和计算机视觉的研究与教学。\n",
    "\n",
    "### FashionMNIST 数据集的特点：\n",
    "\n",
    "1. **数据量**：\n",
    "   - 包含 60,000 张训练图像和 10,000 张测试图像。\n",
    "   \n",
    "2. **图像尺寸**：\n",
    "   - 每张图像的尺寸为 28x28 像素，灰度图像。\n",
    "   \n",
    "3. **类别**：\n",
    "   - 数据集包含 10 个类别，每个类别代表一种服装商品：\n",
    "     1. T恤/上衣\n",
    "     2. 裤子\n",
    "     3. 套头衫\n",
    "     4. 连衣裙\n",
    "     5. 外套\n",
    "     6. 凉鞋\n",
    "     7. 衬衫\n",
    "     8. 运动鞋\n",
    "     9. 包\n",
    "     10. 短靴\n",
    "\n",
    "4. **标签**：\n",
    "   - 每张图像都有一个对应的标签，表示图像所属的类别。\n"
   ],
   "id": "26ff6492113c9dda"
  },
  {
   "metadata": {},
   "cell_type": "code",
   "source": "len(mnist_train), len(mnist_test)",
   "id": "98d9a3429db01ece",
   "outputs": [],
   "execution_count": null
  },
  {
   "metadata": {},
   "cell_type": "markdown",
   "source": "Fashion-MNIST由10个类别的图像组成， 每个类别由训练数据集（train dataset）中的6000张图像 和测试数据集（test dataset）中的1000张图像组成。 因此，训练集和测试集分别包含60000和10000张图像。 测试数据集不会用于训练，只用于评估模型性能。",
   "id": "81c7dbf5e73e2ae0"
  },
  {
   "metadata": {},
   "cell_type": "code",
   "source": "mnist_train[0][0].shape",
   "id": "8edd7e849cf4e964",
   "outputs": [],
   "execution_count": null
  },
  {
   "metadata": {},
   "cell_type": "markdown",
   "source": [
    "每个输入图像的高度和宽度均为28像素。 数据集由灰度图像组成，其通道数为1。 \n",
    "\n",
    "`mnist_train` 是一个包含 FashionMNIST 数据集的 PyTorch 数据集对象（`Dataset`）。具体来说，它是一个 `torchvision.datasets.FashionMNIST` 对象。这个对象是 PyTorch 提供的一种数据集抽象，用于加载和处理常见的数据集。\n",
    "\n",
    "1. `mnist_train[0]`：\n",
    "    - 返回数据集中的第一个样本。\n",
    "    - FashionMNIST 数据集的每个样本是一个元组 `(image, label)`。\n",
    "    - `image` 是一个图像的张量。\n",
    "    - `label` 是该图像的标签，表示图像所属的类别。\n",
    "\n",
    "2. `mnist_train[0][0]`：\n",
    "    - 返回第一个样本的图像部分（`image`）。\n",
    "    - 这种访问方式让我们可以直接获取图像数据。\n"
   ],
   "id": "4ac26d1511be28fa"
  },
  {
   "metadata": {},
   "cell_type": "code",
   "source": [
    "# Fashion-MNIST中包含的10个类别，分别为t-shirt（T恤）、trouser（裤子）、pullover（套衫）、dress（连衣裙）、coat（外套）、sandal（凉鞋）、shirt（衬衫）、sneaker（运动鞋）、bag（包）和ankle boot（短靴）。 以下函数用于在数字标签索引及其文本名称之间进行转换。\n",
    "def get_fashion_mnist_labels(labels):  #@save\n",
    "    \"\"\"返回Fashion-MNIST数据集的文本标签\"\"\"\n",
    "    text_labels = ['t-shirt', 'trouser', 'pullover', 'dress', 'coat',\n",
    "                   'sandal', 'shirt', 'sneaker', 'bag', 'ankle boot']\n",
    "    return [text_labels[int(i)] for i in labels]"
   ],
   "id": "6a313310f6654709",
   "outputs": [],
   "execution_count": null
  },
  {
   "metadata": {},
   "cell_type": "code",
   "source": [
    "from d2l import torch as d2l\n",
    "d2l.use_svg_display()\n",
    "\n",
    "# 创建一个函数来可视化这些样本。\n",
    "def show_images(imgs, num_rows, num_cols, titles=None, scale=1.5):  #@save\n",
    "    \"\"\"绘制图像列表\"\"\"\n",
    "    figsize = (num_cols * scale, num_rows * scale)\n",
    "    _, axes = d2l.plt.subplots(num_rows, num_cols, figsize=figsize)\n",
    "    axes = axes.flatten()\n",
    "    for i, (ax, img) in enumerate(zip(axes, imgs)):\n",
    "        if torch.is_tensor(img):\n",
    "            # 图片张量\n",
    "            ax.imshow(img.numpy())\n",
    "        else:\n",
    "            # PIL图片\n",
    "            ax.imshow(img)\n",
    "        ax.axes.get_xaxis().set_visible(False)\n",
    "        ax.axes.get_yaxis().set_visible(False)\n",
    "        if titles:\n",
    "            ax.set_title(titles[i])\n",
    "    return axes"
   ],
   "id": "e6efb7832359f788",
   "outputs": [],
   "execution_count": null
  },
  {
   "metadata": {},
   "cell_type": "code",
   "source": [
    "X, y = next(iter(data.DataLoader(mnist_train, batch_size=18)))\n",
    "show_images(X.reshape(18, 28, 28), 2, 9, titles=get_fashion_mnist_labels(y));"
   ],
   "id": "627717bb08cea79c",
   "outputs": [],
   "execution_count": null
  },
  {
   "metadata": {},
   "cell_type": "markdown",
   "source": [
    "# 读取小批量\n",
    "\n",
    "为了使我们在读取训练集和测试集时更容易，我们使用内置的数据迭代器，而不是从零开始创建。 回顾一下，在每次迭代中，数据加载器每次都会读取一小批量数据，大小为batch_size。 通过内置数据迭代器，我们可以随机打乱了所有样本，从而无偏见地读取小批量。"
   ],
   "id": "4191c9e73c586e29"
  },
  {
   "metadata": {},
   "cell_type": "code",
   "source": [
    "batch_size = 256\n",
    "\n",
    "def get_dataloader_workers():  #@save\n",
    "    \"\"\"使用4个进程来读取数据\"\"\"\n",
    "    return 4\n",
    "\n",
    "train_iter = data.DataLoader(mnist_train, batch_size, shuffle=True,\n",
    "                             num_workers=get_dataloader_workers())"
   ],
   "id": "1c50e5a816603b6b",
   "outputs": [],
   "execution_count": null
  },
  {
   "metadata": {},
   "cell_type": "code",
   "source": [
    "timer = d2l.Timer()\n",
    "for X, y in train_iter:\n",
    "    continue\n",
    "f'{timer.stop():.2f} sec'\n",
    "# 读取训练数据所需的时间。"
   ],
   "id": "74c958f359c421d2",
   "outputs": [],
   "execution_count": null
  },
  {
   "metadata": {},
   "cell_type": "markdown",
   "source": [
    "# 整合所有组件\n",
    "\n",
    "现在我们定义load_data_fashion_mnist函数，用于获取和读取Fashion-MNIST数据集。 这个函数返回训练集和验证集的数据迭代器。 此外，这个函数还接受一个可选参数resize，用来将图像大小调整为另一种形状。"
   ],
   "id": "52840f9d05caa831"
  },
  {
   "metadata": {},
   "cell_type": "code",
   "source": [
    "def load_data_fashion_mnist(batch_size, resize=None):  #@save\n",
    "    \"\"\"下载Fashion-MNIST数据集，然后将其加载到内存中\"\"\"\n",
    "    trans = [transforms.ToTensor()]\n",
    "    if resize:\n",
    "        trans.insert(0, transforms.Resize(resize))\n",
    "    trans = transforms.Compose(trans)\n",
    "    mnist_train = torchvision.datasets.FashionMNIST(\n",
    "        root=\"../../data\", train=True, transform=trans, download=True)\n",
    "    mnist_test = torchvision.datasets.FashionMNIST(\n",
    "        root=\"../../data\", train=False, transform=trans, download=True)\n",
    "    return (data.DataLoader(mnist_train, batch_size, shuffle=True,\n",
    "                            num_workers=get_dataloader_workers()),\n",
    "            data.DataLoader(mnist_test, batch_size, shuffle=False,\n",
    "                            num_workers=get_dataloader_workers()))"
   ],
   "id": "e9f45ede44ff184f",
   "outputs": [],
   "execution_count": null
  },
  {
   "metadata": {},
   "cell_type": "markdown",
   "source": "下面，我们通过指定resize参数来测试load_data_fashion_mnist函数的图像大小调整功能。",
   "id": "ea13dc76fc154d41"
  },
  {
   "metadata": {},
   "cell_type": "code",
   "source": [
    "train_iter, test_iter = load_data_fashion_mnist(32, resize=64)\n",
    "for X, y in train_iter:\n",
    "    print(X.shape, X.dtype, y.shape, y.dtype)\n",
    "    break"
   ],
   "id": "bdd551bfc584d6ed",
   "outputs": [],
   "execution_count": null
  }
 ],
 "metadata": {
  "kernelspec": {
   "display_name": "Python 3",
   "language": "python",
   "name": "python3"
  },
  "language_info": {
   "codemirror_mode": {
    "name": "ipython",
    "version": 2
   },
   "file_extension": ".py",
   "mimetype": "text/x-python",
   "name": "python",
   "nbconvert_exporter": "python",
   "pygments_lexer": "ipython2",
   "version": "2.7.6"
  }
 },
 "nbformat": 4,
 "nbformat_minor": 5
}
