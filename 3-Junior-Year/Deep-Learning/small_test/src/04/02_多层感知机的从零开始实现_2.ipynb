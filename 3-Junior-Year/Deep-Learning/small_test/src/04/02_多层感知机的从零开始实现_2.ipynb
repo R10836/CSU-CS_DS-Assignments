{
 "cells": [
  {
   "metadata": {},
   "cell_type": "markdown",
   "source": "# 1 数据集加载与预处理",
   "id": "2871a4318720fd7"
  },
  {
   "cell_type": "code",
   "id": "initial_id",
   "metadata": {
    "collapsed": true
   },
   "source": [
    "import torchvision\n",
    "from torchvision import transforms\n",
    "\n",
    "# 定义数据预处理\n",
    "trans = transforms.ToTensor()\n",
    "\n",
    "# 加载数据集（不重复下载）\n",
    "mnist_train = torchvision.datasets.FashionMNIST(root=\"../../data\", train=True, transform=trans, download=False)\n",
    "mnist_test = torchvision.datasets.FashionMNIST(root=\"../../data\", train=False, transform=trans, download=False)"
   ],
   "outputs": [],
   "execution_count": null
  },
  {
   "metadata": {},
   "cell_type": "markdown",
   "source": "## 检查数据集加载是否成功及其基本信息",
   "id": "a04b9b78e82c02e8"
  },
  {
   "metadata": {},
   "cell_type": "code",
   "source": [
    "# 检查训练数据集和测试数据集的大小\n",
    "print(f'Training dataset size: {len(mnist_train)}')\n",
    "print(f'Test dataset size: {len(mnist_test)}')\n",
    "\n",
    "# 查看一个样本的形状和标签\n",
    "sample_image, sample_label = mnist_train[0]\n",
    "print(f'Sample image shape: {sample_image.shape}')\n",
    "print(f'Sample label: {sample_label}')"
   ],
   "id": "44026bf25cb352d0",
   "outputs": [],
   "execution_count": null
  },
  {
   "metadata": {},
   "cell_type": "markdown",
   "source": "# 2 数据加载器",
   "id": "df40268d8f4b6820"
  },
  {
   "metadata": {},
   "cell_type": "code",
   "source": [
    "from torch.utils.data import DataLoader\n",
    "\n",
    "batch_size = 64\n",
    "\n",
    "# 创建数据加载器\n",
    "train_loader = DataLoader(mnist_train, batch_size=batch_size, shuffle=True)\n",
    "test_loader = DataLoader(mnist_test, batch_size=batch_size, shuffle=False)"
   ],
   "id": "6ad60fc0e4e6ceaa",
   "outputs": [],
   "execution_count": null
  },
  {
   "metadata": {},
   "cell_type": "markdown",
   "source": "# 3 定义模型",
   "id": "7f4eb3bcdf3bb942"
  },
  {
   "metadata": {},
   "cell_type": "code",
   "source": [
    "# 定义模型参数和网络\n",
    "\n",
    "import torch\n",
    "from torch import nn  # 这种方式直接从 torch 中导入 nn 模块，使得在代码中你可以直接使用 nn 而不需要加上 torch. 前缀。使用示例：你可以直接使用 nn.Linear，而不需要 torch.nn.Linear。\n",
    "\n",
    "\n",
    "num_inputs, num_outputs, num_hiddens = 784, 10, 256  # 每个图像由28*28=784个像素值组成，被分为10个类别。\n",
    "\n",
    "# 初始化第一个全连接层的权重和偏置: 输入层->隐藏层\n",
    "W1 = nn.Parameter(torch.randn(num_inputs, num_hiddens, requires_grad=True) * 0.01)  # 一个形状为(num_inputs, num_hiddens)的权重矩阵\n",
    "b1 = nn.Parameter(torch.zeros(num_hiddens, requires_grad=True))\n",
    "# 初始化第二个全连接层的权重和偏置: 隐藏层->输出层\n",
    "W2 = nn.Parameter(torch.randn(num_hiddens, num_outputs, requires_grad=True) * 0.01)  # 一个形状为(num_hiddens, num_outputs)的权重矩阵\n",
    "b2 = nn.Parameter(torch.zeros(num_outputs, requires_grad=True))\n",
    "\n",
    "params = [W1, b1, W2, b2]  # 将所有参数收集到一个列表中，这个列表包含了网络的所有可训练参数\n",
    "\n",
    "\n",
    "def relu(X):\n",
    "    # ReLU激活函数\n",
    "    a = torch.zeros_like(X)\n",
    "    return torch.max(X, a)\n",
    "\n",
    "def net(X):\n",
    "    # 网\n",
    "    X = X.reshape((-1, num_inputs))\n",
    "    H = relu(X@W1 + b1)  # 这里“@”代表矩阵乘法 {输入层到隐藏层：线性变换+激活函数}\n",
    "    return (H@W2 + b2)  # {隐藏层到输出层：线性变换}"
   ],
   "id": "d7fa572d6bf4bdab",
   "outputs": [],
   "execution_count": null
  },
  {
   "metadata": {},
   "cell_type": "markdown",
   "source": "",
   "id": "ea4fb594ac7c0c02"
  },
  {
   "metadata": {},
   "cell_type": "markdown",
   "source": "# 4 定义损失函数和优化器",
   "id": "d6b9a9337377ceaa"
  },
  {
   "metadata": {},
   "cell_type": "code",
   "source": [
    "# 损失函数\n",
    "loss = nn.CrossEntropyLoss()\n",
    "\n",
    "# 优化器\n",
    "lr = 0.1\n",
    "updater = torch.optim.SGD(params, lr=lr)"
   ],
   "id": "3b147ecba5a5968b",
   "outputs": [],
   "execution_count": null
  },
  {
   "metadata": {},
   "cell_type": "markdown",
   "source": "# 5 训练循环",
   "id": "f4c6a136586337ae"
  },
  {
   "metadata": {},
   "cell_type": "code",
   "source": [
    "num_epochs = 10\n",
    "\n",
    "for epoch in range(num_epochs):\n",
    "    for X, y in train_loader:\n",
    "        # 计算模型输出\n",
    "        y_hat = net(X)\n",
    "        # 计算损失\n",
    "        l = loss(y_hat, y)\n",
    "        # 梯度清零\n",
    "        updater.zero_grad()\n",
    "        # 反向传播\n",
    "        l.backward()\n",
    "        # 参数更新\n",
    "        updater.step()\n",
    "    \n",
    "    # 每个 epoch 结束后评估模型\n",
    "    with torch.no_grad():\n",
    "        test_loss, correct = 0, 0\n",
    "        for X, y in test_loader:\n",
    "            y_hat = net(X)\n",
    "            test_loss += loss(y_hat, y).sum().item()\n",
    "            correct += (y_hat.argmax(1) == y).sum().item()\n",
    "        print(f'Epoch {epoch + 1}, Test Loss: {test_loss / len(test_loader.dataset)}, '\n",
    "              f'Accuracy: {correct / len(test_loader.dataset)}')\n",
    "\n",
    "print(\"Training Complete!\")"
   ],
   "id": "8c72719370113ba7",
   "outputs": [],
   "execution_count": null
  }
 ],
 "metadata": {
  "kernelspec": {
   "display_name": "Python 3",
   "language": "python",
   "name": "python3"
  },
  "language_info": {
   "codemirror_mode": {
    "name": "ipython",
    "version": 2
   },
   "file_extension": ".py",
   "mimetype": "text/x-python",
   "name": "python",
   "nbconvert_exporter": "python",
   "pygments_lexer": "ipython2",
   "version": "2.7.6"
  }
 },
 "nbformat": 4,
 "nbformat_minor": 5
}
