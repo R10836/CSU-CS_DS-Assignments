{
 "cells": [
  {
   "metadata": {},
   "cell_type": "markdown",
   "source": "# 数据集加载与预处理",
   "id": "5f979bdda943944c"
  },
  {
   "cell_type": "code",
   "id": "initial_id",
   "metadata": {
    "collapsed": true
   },
   "source": [
    "import torchvision\n",
    "from torch.utils.data import DataLoader\n",
    "from torchvision import transforms\n",
    "\n",
    "# 定义数据预处理\n",
    "trans = transforms.ToTensor()\n",
    "\n",
    "# 加载数据集（不重复下载）\n",
    "mnist_train = torchvision.datasets.FashionMNIST(\n",
    "    root=\"../../data\", train=True, transform=trans, download=False)\n",
    "mnist_test = torchvision.datasets.FashionMNIST(\n",
    "    root=\"../../data\", train=False, transform=trans, download=False)\n",
    "\n",
    "# 创建数据加载器\n",
    "batch_size = 64\n",
    "train_loader = DataLoader(mnist_train, batch_size=batch_size, shuffle=True)\n",
    "test_loader = DataLoader(mnist_test, batch_size=batch_size, shuffle=False)"
   ],
   "outputs": [],
   "execution_count": null
  },
  {
   "metadata": {},
   "cell_type": "code",
   "source": [
    "print(f'Training dataset size: {len(mnist_train)}')\n",
    "print(f'Test dataset size: {len(mnist_test)}')\n",
    "\n",
    "# 从训练加载器中获取一个 batch 的样本\n",
    "for X, y in train_loader:\n",
    "    print(f'Batch of data shape: {X.shape}')\n",
    "    print(f'Batch of labels shape: {y.shape}')\n",
    "    break\n",
    "\n",
    "# 类标签\n",
    "classes = mnist_train.classes\n",
    "print(f'Classes: {classes}')"
   ],
   "id": "8fc5c91c0f2b5dcf",
   "outputs": [],
   "execution_count": null
  },
  {
   "metadata": {},
   "cell_type": "markdown",
   "source": "# 2 定义模型",
   "id": "b4bdd946df4a9bf8"
  },
  {
   "metadata": {},
   "cell_type": "code",
   "source": [
    "import torch\n",
    "from torch import nn\n",
    "\n",
    "class MLP(nn.Module):\n",
    "    def __init__(self):\n",
    "        super(MLP, self).__init__()\n",
    "        self.fc1 = nn.Linear(784, 256)\n",
    "        self.fc2 = nn.Linear(256, 10)\n",
    "\n",
    "    def forward(self, x):\n",
    "        x = torch.flatten(x, start_dim=1)  # Flatten the input\n",
    "        x = torch.relu(self.fc1(x))\n",
    "        x = self.fc2(x)\n",
    "        return x\n",
    "\n",
    "# 实例化模型\n",
    "model = MLP()"
   ],
   "id": "c21d24587d1bb88f",
   "outputs": [],
   "execution_count": null
  },
  {
   "metadata": {},
   "cell_type": "markdown",
   "source": "# 3 定义损失函数和优化器",
   "id": "7dbc46c34bf8630e"
  },
  {
   "metadata": {},
   "cell_type": "code",
   "source": [
    "# 损失函数\n",
    "criterion = nn.CrossEntropyLoss()\n",
    "\n",
    "# 优化器\n",
    "optimizer = torch.optim.SGD(model.parameters(), lr=0.1)"
   ],
   "id": "92023d35a7994b5a",
   "outputs": [],
   "execution_count": null
  },
  {
   "metadata": {},
   "cell_type": "markdown",
   "source": "# 4 训练循环",
   "id": "bc9d5a0284aed056"
  },
  {
   "metadata": {},
   "cell_type": "code",
   "source": [
    "num_epochs = 10\n",
    "\n",
    "for epoch in range(num_epochs):\n",
    "    model.train()  # Set model to training mode\n",
    "    running_loss = 0.0\n",
    "    for X, y in train_loader:\n",
    "        # 清零梯度\n",
    "        optimizer.zero_grad()\n",
    "        \n",
    "        # 前向传播\n",
    "        outputs = model(X)\n",
    "        \n",
    "        # 计算损失\n",
    "        loss = criterion(outputs, y)\n",
    "        \n",
    "        # 反向传播\n",
    "        loss.backward()\n",
    "        \n",
    "        # 更新参数\n",
    "        optimizer.step()\n",
    "        \n",
    "        running_loss += loss.item() * X.size(0)\n",
    "    \n",
    "    # 打印每个 epoch 的训练损失\n",
    "    epoch_loss = running_loss / len(mnist_train)\n",
    "    print(f'Epoch {epoch + 1}, Loss: {epoch_loss:.4f}')\n",
    "    \n",
    "    # 每个 epoch 结束后评估模型\n",
    "    model.eval()  # Set model to evaluation mode\n",
    "    correct = 0\n",
    "    total = 0\n",
    "    with torch.no_grad():\n",
    "        for X, y in test_loader:\n",
    "            outputs = model(X)\n",
    "            _, predicted = torch.max(outputs, 1)\n",
    "            total += y.size(0)\n",
    "            correct += (predicted == y).sum().item()\n",
    "    \n",
    "    accuracy = correct / total\n",
    "    print(f'Epoch {epoch + 1}, Accuracy: {accuracy:.4f}')\n",
    "\n",
    "print(\"Training Complete!\")"
   ],
   "id": "5dc90ae40f1a3b7f",
   "outputs": [],
   "execution_count": null
  }
 ],
 "metadata": {
  "kernelspec": {
   "display_name": "Python 3",
   "language": "python",
   "name": "python3"
  },
  "language_info": {
   "codemirror_mode": {
    "name": "ipython",
    "version": 2
   },
   "file_extension": ".py",
   "mimetype": "text/x-python",
   "name": "python",
   "nbconvert_exporter": "python",
   "pygments_lexer": "ipython2",
   "version": "2.7.6"
  }
 },
 "nbformat": 4,
 "nbformat_minor": 5
}
