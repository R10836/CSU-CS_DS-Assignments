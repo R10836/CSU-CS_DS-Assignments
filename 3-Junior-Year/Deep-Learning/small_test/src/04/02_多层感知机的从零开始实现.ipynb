{
 "cells": [
  {
   "metadata": {},
   "cell_type": "code",
   "source": [
    "# import torch\n",
    "# from torch import nn\n",
    "from d2l import torch as d2l\n",
    "\n",
    "batch_size = 256\n",
    "train_iter, test_iter = d2l.load_data_fashion_mnist(batch_size)"
   ],
   "id": "2e635b2be5c2b298",
   "outputs": [],
   "execution_count": null
  },
  {
   "metadata": {},
   "cell_type": "markdown",
   "source": "# 初始化模型参数",
   "id": "64cc8f4b664b5a47"
  },
  {
   "metadata": {},
   "cell_type": "code",
   "source": [
    "import torch\n",
    "from torch import nn\n",
    "\n",
    "num_inputs, num_outputs, num_hiddens = 784, 10, 256  # 每个图像由28*28=784个像素值组成，被分为10个类别。\n",
    "\n",
    "# 初始化第一个全连接层的权重和偏置: 输入层->隐藏层\n",
    "W1 = nn.Parameter(torch.randn(num_inputs, num_hiddens, requires_grad=True) * 0.01)  # 一个形状为(num_inputs, num_hiddens)的权重矩阵\n",
    "b1 = nn.Parameter(torch.zeros(num_hiddens, requires_grad=True))\n",
    "# 初始化第二个全连接层的权重和偏置: 隐藏层->输出层\n",
    "W2 = nn.Parameter(torch.randn(num_hiddens, num_outputs, requires_grad=True) * 0.01)  # 一个形状为(num_hiddens, num_outputs)的权重矩阵\n",
    "b2 = nn.Parameter(torch.zeros(num_outputs, requires_grad=True))\n",
    "\n",
    "params = [W1, b1, W2, b2]  # 将所有参数收集到一个列表中，这个列表包含了网络的所有可训练参数"
   ],
   "id": "45290e414c891328",
   "outputs": [],
   "execution_count": null
  },
  {
   "metadata": {},
   "cell_type": "markdown",
   "source": "# 激活函数",
   "id": "474ef1d3bb8b5e61"
  },
  {
   "metadata": {},
   "cell_type": "code",
   "source": [
    "# ReLU激活函数\n",
    "def relu(X):\n",
    "    a = torch.zeros_like(X)\n",
    "    return torch.max(X, a)"
   ],
   "id": "4bcdf29c3ac2b199",
   "outputs": [],
   "execution_count": null
  },
  {
   "metadata": {},
   "cell_type": "markdown",
   "source": "# 模型",
   "id": "a060bedf0ceee64e"
  },
  {
   "metadata": {},
   "cell_type": "code",
   "source": [
    "def net(X):\n",
    "    X = X.reshape((-1, num_inputs))\n",
    "    H = relu(X@W1 + b1)  # 这里“@”代表矩阵乘法 {输入层到隐藏层：线性变换+激活函数}\n",
    "    return (H@W2 + b2)  # {隐藏层到输出层：线性变换}"
   ],
   "id": "44626311eb3d4936",
   "outputs": [],
   "execution_count": null
  },
  {
   "metadata": {},
   "cell_type": "markdown",
   "source": "# 损失函数",
   "id": "488b7fff0d882011"
  },
  {
   "metadata": {},
   "cell_type": "code",
   "source": "loss = nn.CrossEntropyLoss(reduction='none')  # 计算softmax + 交叉熵损失",
   "id": "d5807b2cb413f1b3",
   "outputs": [],
   "execution_count": null
  },
  {
   "metadata": {},
   "cell_type": "markdown",
   "source": "# 训练",
   "id": "112fce8943a9f362"
  },
  {
   "metadata": {},
   "cell_type": "code",
   "source": "你麻痹",
   "id": "5eecd96c9fdc8472",
   "outputs": [],
   "execution_count": null
  }
 ],
 "metadata": {
  "kernelspec": {
   "display_name": "Python 3",
   "language": "python",
   "name": "python3"
  },
  "language_info": {
   "codemirror_mode": {
    "name": "ipython",
    "version": 2
   },
   "file_extension": ".py",
   "mimetype": "text/x-python",
   "name": "python",
   "nbconvert_exporter": "python",
   "pygments_lexer": "ipython2",
   "version": "2.7.6"
  }
 },
 "nbformat": 4,
 "nbformat_minor": 5
}
