{
 "cells": [
  {
   "metadata": {},
   "cell_type": "markdown",
   "source": "# 1 定义数据加载器与预处理",
   "id": "a8414d5664b22ebd"
  },
  {
   "metadata": {},
   "cell_type": "code",
   "source": [
    "import torchvision\n",
    "from torchvision import transforms\n",
    "from torch.utils.data import DataLoader\n",
    "\n",
    "\n",
    "def load_data(batch_size, input_size):\n",
    "    # 定义数据预处理\n",
    "    trans = transforms.Compose([\n",
    "        transforms.ToTensor(),\n",
    "        transforms.Lambda(lambda x: x.view(-1))  # Flatten the input image\n",
    "    ])\n",
    "\n",
    "    # 加载数据集（不重复下载）\n",
    "    mnist_train = torchvision.datasets.FashionMNIST(root=\"../../data\", train=True, transform=trans, download=False)\n",
    "    mnist_test = torchvision.datasets.FashionMNIST(root=\"../../data\", train=False, transform=trans, download=False)\n",
    "\n",
    "    # 创建数据加载器\n",
    "    train_loader = DataLoader(mnist_train, batch_size=batch_size, shuffle=True)\n",
    "    test_loader = DataLoader(mnist_test, batch_size=batch_size, shuffle=False)\n",
    "\n",
    "    return train_loader, test_loader"
   ],
   "id": "2d160851441ca8a1",
   "outputs": [],
   "execution_count": null
  },
  {
   "metadata": {},
   "cell_type": "markdown",
   "source": "# 2 定义模型",
   "id": "60a2001eca160bc2"
  },
  {
   "metadata": {},
   "cell_type": "code",
   "source": [
    "import torch\n",
    "from torch import nn\n",
    "\n",
    "class MLP(nn.Module):\n",
    "    def __init__(self, input_size, hidden_size, output_size):\n",
    "        super(MLP, self).__init__()\n",
    "        self.fc1 = nn.Linear(input_size, hidden_size)\n",
    "        self.fc2 = nn.Linear(hidden_size, output_size)\n",
    "\n",
    "    def forward(self, x):\n",
    "        x = torch.relu(self.fc1(x))\n",
    "        x = self.fc2(x)\n",
    "        return x"
   ],
   "id": "5c0c976b00c028c1",
   "outputs": [],
   "execution_count": null
  },
  {
   "metadata": {},
   "cell_type": "markdown",
   "source": "# 3 定义训练和评估函数",
   "id": "f7defc7b86d4abd4"
  },
  {
   "metadata": {},
   "cell_type": "code",
   "source": [
    "def train_model(model, train_loader, test_loader, num_epochs, lr):\n",
    "    criterion = nn.CrossEntropyLoss()\n",
    "    optimizer = torch.optim.SGD(model.parameters(), lr=lr)\n",
    "\n",
    "    for epoch in range(num_epochs):\n",
    "        model.train()\n",
    "        running_loss = 0.0\n",
    "        for X, y in train_loader:\n",
    "            optimizer.zero_grad()\n",
    "            outputs = model(X)\n",
    "            loss = criterion(outputs, y)\n",
    "            loss.backward()\n",
    "            optimizer.step()\n",
    "            running_loss += loss.item() * X.size(0)\n",
    "\n",
    "        epoch_loss = running_loss / len(train_loader.dataset)\n",
    "        print(f'Epoch {epoch + 1}, Loss: {epoch_loss:.4f}')\n",
    "\n",
    "        model.eval()\n",
    "        correct = 0\n",
    "        total = 0\n",
    "        with torch.no_grad():\n",
    "            for X, y in test_loader:\n",
    "                outputs = model(X)\n",
    "                _, predicted = torch.max(outputs, 1)\n",
    "                total += y.size(0)\n",
    "                correct += (predicted == y).sum().item()\n",
    "\n",
    "        accuracy = correct / total\n",
    "        print(f'Epoch {epoch + 1}, Accuracy: {accuracy:.4f}')\n",
    "\n",
    "    print(\"Training Complete!\")"
   ],
   "id": "b94b8637fefc47e4",
   "outputs": [],
   "execution_count": null
  },
  {
   "metadata": {},
   "cell_type": "markdown",
   "source": "# 5 主程序入口",
   "id": "ff94387b19aaf237"
  },
  {
   "metadata": {},
   "cell_type": "code",
   "source": [
    "if __name__ == \"__main__\":\n",
    "    # 超参数\n",
    "    input_size = 784\n",
    "    hidden_size = 256\n",
    "    output_size = 10\n",
    "    batch_size = 64\n",
    "    num_epochs = 10\n",
    "    lr = 0.1\n",
    "\n",
    "    # 加载数据\n",
    "    train_loader, test_loader = load_data(batch_size, input_size)\n",
    "\n",
    "    # 初始化模型\n",
    "    model = MLP(input_size, hidden_size, output_size)\n",
    "\n",
    "    # 训练模型\n",
    "    train_model(model, train_loader, test_loader, num_epochs, lr)"
   ],
   "id": "1685ff669e051617",
   "outputs": [],
   "execution_count": null
  }
 ],
 "metadata": {
  "kernelspec": {
   "display_name": "Python 3",
   "language": "python",
   "name": "python3"
  },
  "language_info": {
   "codemirror_mode": {
    "name": "ipython",
    "version": 2
   },
   "file_extension": ".py",
   "mimetype": "text/x-python",
   "name": "python",
   "nbconvert_exporter": "python",
   "pygments_lexer": "ipython2",
   "version": "2.7.6"
  }
 },
 "nbformat": 4,
 "nbformat_minor": 5
}
