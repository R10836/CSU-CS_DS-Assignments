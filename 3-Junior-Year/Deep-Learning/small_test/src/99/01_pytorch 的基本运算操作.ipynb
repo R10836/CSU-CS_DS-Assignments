{
 "cells": [
  {
   "metadata": {},
   "cell_type": "markdown",
   "source": "# 1.构造标量、向量、矩阵",
   "id": "99dcf02aabcee234"
  },
  {
   "metadata": {},
   "cell_type": "code",
   "source": [
    "import torch\n",
    "# 构造标量\n",
    "scalar = torch.tensor(3.14)\n",
    "print(\"标量:\", scalar)\n",
    "# 构造向量\n",
    "vector = torch.tensor([1, 2, 3])\n",
    "print(\"向量:\", vector)\n",
    "# 构造矩阵\n",
    "matrix = torch.tensor([[1, 2, 3], [4, 5, 6], [7, 8, 9]])\n",
    "print(\"矩阵:\\n\", matrix)"
   ],
   "id": "40320284616041d5",
   "outputs": [],
   "execution_count": null
  },
  {
   "metadata": {},
   "cell_type": "markdown",
   "source": "# 2. 构造3维张量，切片张量",
   "id": "1b3df7f2b6aa05e9"
  },
  {
   "metadata": {},
   "cell_type": "code",
   "source": [
    "# 构造3维张量\n",
    "tensor_3d = torch.tensor([[[1, 2], [3, 4]], [[5, 6], [7, 8]]])\n",
    "print(\"3维张量:\\n\", tensor_3d)\n",
    "\n",
    "# 切片张量\n",
    "print(\"切片后的张量:\", tensor_3d[0, :, :], tensor_3d[:, 0, :], tensor_3d[:, :, 0], sep=\"\\n\")"
   ],
   "id": "4cc3b46085611785",
   "outputs": [],
   "execution_count": null
  },
  {
   "metadata": {},
   "cell_type": "markdown",
   "source": "# 3. GPU 上的张量",
   "id": "aa86bfd6dce07c6f"
  },
  {
   "metadata": {},
   "cell_type": "code",
   "source": [
    "# 检查是否有可用的GPU\n",
    "device = torch.device(\"cuda\" if torch.cuda.is_available() else \"cpu\")\n",
    "print(\"使用的设备:\", device)\n",
    "\n",
    "# 在GPU上创建张量\n",
    "if device == \"cuda\":\n",
    "    gpu_tensor = torch.tensor([1, 2, 3], device=device)\n",
    "    print(\"GPU上的张量:\", gpu_tensor)\n",
    "else:\n",
    "    print(\"没有GPU。\")"
   ],
   "id": "162253fdaedc442d",
   "outputs": [],
   "execution_count": null
  },
  {
   "metadata": {},
   "cell_type": "markdown",
   "source": "# 4. 计算张量加、张量乘法运算",
   "id": "1b77f8032a438194"
  },
  {
   "metadata": {},
   "cell_type": "code",
   "source": [
    "tensor_a = torch.tensor([1, 2, 3])\n",
    "tensor_b = torch.tensor([4, 5, 6])\n",
    "\n",
    "# 张量加法\n",
    "tensor_add = tensor_a + tensor_b\n",
    "print(\"张量加法结果:\", tensor_add)\n",
    "\n",
    "# 张量乘法\n",
    "tensor_mul = tensor_a * tensor_b\n",
    "print(\"张量乘法结果:\", tensor_mul)"
   ],
   "id": "f28d6b3be9d3e05a",
   "outputs": [],
   "execution_count": null
  },
  {
   "metadata": {},
   "cell_type": "markdown",
   "source": "# 5. 张量求导",
   "id": "ff7fee02558f597d"
  },
  {
   "metadata": {},
   "cell_type": "code",
   "source": [
    "# 构造需要梯度的张量\n",
    "x = torch.tensor(1.23, requires_grad=True)\n",
    "y = torch.tensor(10.0, requires_grad=True)\n",
    "z = x*x + x*y\n",
    "\n",
    "# 反向传播计算梯度\n",
    "z.backward()\n",
    "print(\"梯度:\", x.grad, y.grad, sep=\"\\n\")"
   ],
   "id": "7bd7840ee57d48c1",
   "outputs": [],
   "execution_count": null
  }
 ],
 "metadata": {
  "kernelspec": {
   "display_name": "Python 3",
   "language": "python",
   "name": "python3"
  },
  "language_info": {
   "codemirror_mode": {
    "name": "ipython",
    "version": 2
   },
   "file_extension": ".py",
   "mimetype": "text/x-python",
   "name": "python",
   "nbconvert_exporter": "python",
   "pygments_lexer": "ipython2",
   "version": "2.7.6"
  }
 },
 "nbformat": 4,
 "nbformat_minor": 5
}
