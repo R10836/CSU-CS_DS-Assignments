{
 "cells": [
  {
   "metadata": {},
   "cell_type": "markdown",
   "source": [
    "1. 设计一个具有单隐层的多层感知器网络；\n",
    "2. 构造多层感知器前向传播和后向传播程序；\n",
    "3. 训练多层感知器；\n",
    "4. 利用多层感知器实现 MINIST 手写体识别；"
   ],
   "id": "abbc8efb54f64f65"
  },
  {
   "metadata": {},
   "cell_type": "markdown",
   "source": "# 1 数据准备",
   "id": "60c35ecedd60cbaa"
  },
  {
   "metadata": {},
   "cell_type": "markdown",
   "source": "## 1-1 超参数",
   "id": "f04e95669c0815e"
  },
  {
   "metadata": {},
   "cell_type": "code",
   "source": [
    "batch_size = 64  # 每次训练时使用的样本数量。将数据分成小批次，可以减少内存占用，同时加速训练。\n",
    "learning_rate = 0.01\n",
    "num_epochs = 10"
   ],
   "id": "964abf162cf23dec",
   "outputs": [],
   "execution_count": null
  },
  {
   "metadata": {},
   "cell_type": "markdown",
   "source": "## 1-2 数据预处理",
   "id": "c790dc93c44c9c90"
  },
  {
   "metadata": {},
   "cell_type": "code",
   "source": [
    "from torchvision import transforms\n",
    "\n",
    "transform = transforms.Compose([\n",
    "    transforms.ToTensor(),  # 将图像数据从 PIL 图像或 numpy 数组转换为 PyTorch 的张量（tensor）。MNIST 数据集中的每个图像是 28x28 像素的灰度图，ToTensor 会将其转换为 [1, 28, 28] 的张量，并且像素值会被缩放到 [0, 1] 之间。\n",
    "    transforms.Normalize((0.5,), (0.5,))  # 归一化（Normalization）操作。这里 (0.5,) 表示均值，(0.5,) 表示标准差。因为 MNIST 是灰度图，只有一个通道，所以只有一个值。数据归一化的作用是将输入数据的值调整到一个标准的范围内，有助于加快收敛速度和提升模型性能。具体来说，这里的操作是将数据缩放到 [-1, 1] 之间\n",
    "])"
   ],
   "id": "9607ee1262fde507",
   "outputs": [],
   "execution_count": null
  },
  {
   "metadata": {},
   "cell_type": "markdown",
   "source": "## 1-3 加载训练集和测试集",
   "id": "b53e735a19ac6359"
  },
  {
   "metadata": {},
   "cell_type": "code",
   "source": [
    "from torchvision import datasets\n",
    "\n",
    "train_dataset = datasets.MNIST(root='../data', train=True, download=True, transform=transform)\n",
    "test_dataset = datasets.MNIST(root='../data', train=False, download=True, transform=transform)"
   ],
   "id": "52bede319e4f3583",
   "outputs": [],
   "execution_count": null
  },
  {
   "metadata": {},
   "cell_type": "markdown",
   "source": "## 1-4 创建数据加载器",
   "id": "d0c7b6e3a2f708e6"
  },
  {
   "metadata": {},
   "cell_type": "code",
   "source": [
    "from torch.utils.data import DataLoader\n",
    "\n",
    "train_loader = DataLoader(dataset=train_dataset, batch_size=batch_size, shuffle=True)\n",
    "test_loader = DataLoader(dataset=test_dataset, batch_size=batch_size, shuffle=False)"
   ],
   "id": "e791edf1f4326f04",
   "outputs": [],
   "execution_count": null
  },
  {
   "metadata": {},
   "cell_type": "markdown",
   "source": "# 2 定义模型",
   "id": "c455fa6259b925bd"
  },
  {
   "metadata": {},
   "cell_type": "code",
   "source": [
    "import torch\n",
    "from torch import nn\n",
    "\n",
    "class MyMLP(nn.Module):\n",
    "    def __init__(self):\n",
    "        super().__init__()\n",
    "        self.cf1 = nn.Linear(28*28, 128)\n",
    "        self.cf2 = nn.Linear(128, 10)\n",
    "\n",
    "    def forward(self, x):\n",
    "        x = x.view(-1, 28*28)\n",
    "        x = torch.relu(self.cf1(x))\n",
    "        x = self.cf2(x)\n",
    "        return x\n",
    "\n",
    "# 初始化模型\n",
    "model = MyMLP()"
   ],
   "id": "53072b75def3a8eb",
   "outputs": [],
   "execution_count": null
  },
  {
   "metadata": {},
   "cell_type": "markdown",
   "source": "# 3 定义损失函数和优化器",
   "id": "81ccac3e83caa6e8"
  },
  {
   "metadata": {},
   "cell_type": "code",
   "source": [
    "criterion = nn.CrossEntropyLoss()\n",
    "optimizer = torch.optim.SGD(model.parameters(), lr=learning_rate)"
   ],
   "id": "5168af154166979c",
   "outputs": [],
   "execution_count": null
  },
  {
   "metadata": {},
   "cell_type": "markdown",
   "source": "# 4 训练模型",
   "id": "991f3202f09037ac"
  },
  {
   "metadata": {},
   "cell_type": "code",
   "source": [
    "model.train()\n",
    "for epoch in range(num_epochs):\n",
    "    for i, (images, labels) in enumerate(train_loader):\n",
    "        # 前向传播\n",
    "        outputs = model(images)\n",
    "        loss = criterion(outputs, labels)\n",
    "        # 后向传播和优化\n",
    "        optimizer.zero_grad()\n",
    "        loss.backward()\n",
    "        optimizer.step()\n",
    "        \n",
    "        print(f'Epoch: {epoch+1}; Step: {i+1}; Loss: {loss.item():.4f}.')  # 打印损失"
   ],
   "id": "1cbf72740079faf9",
   "outputs": [],
   "execution_count": null
  },
  {
   "metadata": {},
   "cell_type": "markdown",
   "source": "# 5 评估模型",
   "id": "d7add386ef317c8b"
  },
  {
   "metadata": {},
   "cell_type": "code",
   "source": [
    "model.eval()  # 切换到评估模式\n",
    "correct = 0\n",
    "total = 0\n",
    "\n",
    "with torch.no_grad():  # 不需要计算梯度\n",
    "    for images, labels in test_loader:\n",
    "        outputs = model(images)  # 前向传播\n",
    "        _, predicted = torch.max(outputs.data, 1)  # 返回两个值：一个是每个样本的最大值（在这里我们不需要），另一个是最大值的索引（也就是预测的类别）。\n",
    "        total += labels.size(0)\n",
    "        correct += (predicted == labels).sum().item()\n",
    "accuracy = correct / total\n",
    "\n",
    "print(f'Accuracy: {accuracy*100:.2f}%.')  # 打印准确率"
   ],
   "id": "c80d7d7c2238b948",
   "outputs": [],
   "execution_count": null
  },
  {
   "metadata": {},
   "cell_type": "markdown",
   "source": "# 6 预测单个样本（附加）",
   "id": "10b2f4e5c1a56e92"
  },
  {
   "metadata": {},
   "cell_type": "code",
   "source": [
    "import matplotlib.pyplot as plt\n",
    "\n",
    "# 从测试集中取一个样本\n",
    "sample = next(iter(test_loader))\n",
    "images, labels = sample\n",
    "\n",
    "# 取第一张图片进行预测\n",
    "image = images[0].unsqueeze(0)  # 增加一个维度，适应模型输入\n",
    "model.eval()\n",
    "output = model(image)\n",
    "_, predicted = torch.max(output.data, 1)\n",
    "\n",
    "# 可视化样本及其预测结果\n",
    "plt.imshow(image.squeeze(), cmap='gray')\n",
    "plt.title(f'Predicted: {predicted.item()}')\n",
    "plt.show()"
   ],
   "id": "86455316b3e8503a",
   "outputs": [],
   "execution_count": null
  }
 ],
 "metadata": {
  "kernelspec": {
   "display_name": "Python 3",
   "language": "python",
   "name": "python3"
  },
  "language_info": {
   "codemirror_mode": {
    "name": "ipython",
    "version": 2
   },
   "file_extension": ".py",
   "mimetype": "text/x-python",
   "name": "python",
   "nbconvert_exporter": "python",
   "pygments_lexer": "ipython2",
   "version": "2.7.6"
  }
 },
 "nbformat": 4,
 "nbformat_minor": 5
}
