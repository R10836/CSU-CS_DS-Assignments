{
 "cells": [
  {
   "metadata": {},
   "cell_type": "markdown",
   "source": [
    "在 CPU 版本和 GPU 版本的代码相比，主要区别如下：\n",
    "\n",
    "1. **模型转移到设备**\n",
    "\n",
    "   - **CPU 版本的第4行**：无此步骤，模型默认在 CPU 上。\n",
    "   - **GPU 版本的第4行**：`device = torch.device('cuda' if torch.cuda.is_available() else 'cpu')` 增加了 GPU 设备选择的步骤。\n",
    "   - **GPU 版本的第5行**：`model.to(device)` 增加了将模型转移到 GPU 的步骤。\n",
    "\n",
    "2. **数据转移到设备**\n",
    "\n",
    "   - **CPU 版本的第14行**：无此步骤，数据默认在 CPU 上。\n",
    "   - **GPU 版本的第14行**：`images, labels = images.to(device), labels.to(device)` 增加了将数据转移到 GPU 的步骤。\n",
    "\n",
    "3. **训练过程中数据转移**\n",
    "\n",
    "   - **CPU 版本的第28行**：无此步骤，数据在 CPU 上。\n",
    "   - **GPU 版本的第28行**：`images, labels = images.to(device), labels.to(device)` 增加了将数据转移到 GPU 的步骤。\n",
    "\n",
    "4. **评估过程中数据转移**\n",
    "\n",
    "   - **CPU 版本的第37行**：无此步骤，数据在 CPU 上。\n",
    "   - **GPU 版本的第37行**：`images, labels = images.to(device), labels.to(device)` 增加了将数据转移到 GPU 的步骤。\n",
    "\n",
    "5. **预测单个样本**\n",
    "\n",
    "   - **CPU 版本的第46行**：无此步骤，数据在 CPU 上。\n",
    "   - **GPU 版本的第46行**：`image = images[0].unsqueeze(0).to(device)` 增加了将数据转移到 GPU 的步骤。"
   ],
   "id": "ae7b9422704d66fe"
  },
  {
   "metadata": {},
   "cell_type": "markdown",
   "source": [
    "1. 设计一个具有单隐层的多层感知器网络；\n",
    "2. 构造多层感知器前向传播和后向传播程序；\n",
    "3. 训练多层感知器；\n",
    "4. 利用多层感知器实现 MINIST 手写体识别；"
   ],
   "id": "c7450ed0c4110b0f"
  },
  {
   "metadata": {},
   "cell_type": "markdown",
   "source": "# 1 数据准备",
   "id": "f3fbece1aeda7d8f"
  },
  {
   "cell_type": "code",
   "id": "initial_id",
   "metadata": {
    "collapsed": true
   },
   "source": [
    "from torch.utils.data import DataLoader\n",
    "from torchvision import transforms, datasets\n",
    "\n",
    "# 设置超参数\n",
    "batch_size = 64\n",
    "learning_rate = 0.01\n",
    "num_epochs = 10\n",
    "\n",
    "# 定义数据预处理方式\n",
    "transform = transforms.Compose([\n",
    "    transforms.ToTensor(),\n",
    "    transforms.Normalize((0.5,), (0.5,))  # 正则化数据\n",
    "])\n",
    "\n",
    "# 加载训练集和测试集\n",
    "train_dataset = datasets.MNIST(root='../data', train=True, download=True, transform=transform)\n",
    "test_dataset = datasets.MNIST(root='../data', train=False, download=True, transform=transform)\n",
    "\n",
    "train_loader = DataLoader(dataset=train_dataset, batch_size=batch_size, shuffle=True)\n",
    "test_loader = DataLoader(dataset=test_dataset, batch_size=batch_size, shuffle=False)"
   ],
   "outputs": [],
   "execution_count": null
  },
  {
   "metadata": {},
   "cell_type": "markdown",
   "source": "# 2 定义模型",
   "id": "d249c0ce065b86dd"
  },
  {
   "metadata": {},
   "cell_type": "code",
   "source": [
    "import torch\n",
    "from torch import nn\n",
    "\n",
    "class MyMLP(nn.Module):\n",
    "    def __init__(self):\n",
    "        super().__init__()\n",
    "        self.cf1 = nn.Linear(28*28, 128)\n",
    "        self.cf2 = nn.Linear(128, 10)\n",
    "\n",
    "    def forward(self, x):\n",
    "        x = x.view(-1, 28*28)\n",
    "        x = torch.relu(self.cf1(x))\n",
    "        x = self.cf2(x)\n",
    "        return x\n",
    "\n",
    "# 初始化模型\n",
    "model = MyMLP()"
   ],
   "id": "57c41663eb84930c",
   "outputs": [],
   "execution_count": null
  },
  {
   "metadata": {},
   "cell_type": "markdown",
   "source": "# 2.5 检查 GPU 是否可用并将模型转移到 GPU ",
   "id": "e27f1b2e537ac3f4"
  },
  {
   "metadata": {},
   "cell_type": "code",
   "source": [
    "device = torch.device('cuda' if torch.cuda.is_available() else 'cpu')\n",
    "print(f'Using device: {device}')\n",
    "\n",
    "model.to(device)  # 将模型转移到 GPU"
   ],
   "id": "a942d6cf35f3c7aa",
   "outputs": [],
   "execution_count": null
  },
  {
   "metadata": {},
   "cell_type": "markdown",
   "source": "# 3 定义损失函数和优化器",
   "id": "1e324a6327fdc5a8"
  },
  {
   "metadata": {},
   "cell_type": "code",
   "source": [
    "criterion = nn.CrossEntropyLoss()\n",
    "optimizer = torch.optim.SGD(model.parameters(), lr=learning_rate)"
   ],
   "id": "3b88b88713088cce",
   "outputs": [],
   "execution_count": null
  },
  {
   "metadata": {},
   "cell_type": "markdown",
   "source": "# 4 训练模型",
   "id": "13d89d01524d9ffd"
  },
  {
   "metadata": {},
   "cell_type": "code",
   "source": [
    "model.train()\n",
    "for epoch in range(num_epochs):\n",
    "    for i, (images, labels) in enumerate(train_loader):\n",
    "\n",
    "        images, labels = images.to(device), labels.to(device)  # 将数据转移到 GPU\n",
    "\n",
    "        # 前向传播\n",
    "        outputs = model(images)\n",
    "        loss = criterion(outputs, labels)\n",
    "        # 后向传播和优化\n",
    "        optimizer.zero_grad()\n",
    "        loss.backward()\n",
    "        optimizer.step()\n",
    "\n",
    "        # print(f'Epoch: {epoch+1}; Step: {i+1}; Loss: {loss.item():.4f}.')  # 打印损失"
   ],
   "id": "b32e73a229a1d11a",
   "outputs": [],
   "execution_count": null
  },
  {
   "metadata": {},
   "cell_type": "markdown",
   "source": "# 5 评估模型",
   "id": "315d85889fc64075"
  },
  {
   "metadata": {},
   "cell_type": "code",
   "source": [
    "model.eval()\n",
    "correct = 0\n",
    "total = 0\n",
    "\n",
    "with torch.no_grad():  # 不需要计算梯度\n",
    "    for images, labels in test_loader:\n",
    "\n",
    "        images, labels = images.to(device), labels.to(device)  # 将数据转移到 GPU\n",
    "\n",
    "        outputs = model(images)\n",
    "        _, predicted = torch.max(outputs.data, 1)\n",
    "        total += labels.size(0)\n",
    "        correct += (predicted == labels).sum().item()\n",
    "accuracy = correct / total\n",
    "\n",
    "print(f'Accuracy: {accuracy*100:.2f}%.')  # 打印准确率"
   ],
   "id": "425bfcefaef27bd2",
   "outputs": [],
   "execution_count": null
  },
  {
   "metadata": {},
   "cell_type": "markdown",
   "source": "# 6 预测单个样本（附加）",
   "id": "55fa9b1c05d0afde"
  },
  {
   "metadata": {},
   "cell_type": "code",
   "source": [
    "import matplotlib.pyplot as plt\n",
    "\n",
    "# 从测试集中取一个样本\n",
    "sample = next(iter(test_loader))\n",
    "images, labels = sample\n",
    "\n",
    "image = images[0].unsqueeze(0).to(device)  # 增加一个维度，适应模型输入，并转移到 GPU\n",
    "\n",
    "# 取第一张图片进行预测\n",
    "model.eval()\n",
    "with torch.no_grad():\n",
    "    output = model(image)\n",
    "    _, predicted = torch.max(output.data, 1)\n",
    "\n",
    "# 可视化样本及其预测结果\n",
    "plt.imshow(images[0].squeeze(), cmap='gray')\n",
    "plt.title(f'Predicted: {predicted.item()}')\n",
    "plt.show()"
   ],
   "id": "fcc67a89e52c205f",
   "outputs": [],
   "execution_count": null
  }
 ],
 "metadata": {
  "kernelspec": {
   "display_name": "Python 3",
   "language": "python",
   "name": "python3"
  },
  "language_info": {
   "codemirror_mode": {
    "name": "ipython",
    "version": 2
   },
   "file_extension": ".py",
   "mimetype": "text/x-python",
   "name": "python",
   "nbconvert_exporter": "python",
   "pygments_lexer": "ipython2",
   "version": "2.7.6"
  }
 },
 "nbformat": 4,
 "nbformat_minor": 5
}
