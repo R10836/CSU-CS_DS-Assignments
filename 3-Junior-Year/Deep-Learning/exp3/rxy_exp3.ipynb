{
 "cells": [
  {
   "metadata": {},
   "cell_type": "markdown",
   "source": "# 设计一个具有2个卷积层的卷积神经网络",
   "id": "4c153512e1c878bc"
  },
  {
   "cell_type": "code",
   "id": "initial_id",
   "metadata": {
    "collapsed": true
   },
   "source": [
    "import torch\n",
    "import torch.nn as nn\n",
    "import torch.optim as optim\n",
    "import torchvision\n",
    "import torchvision.transforms as transforms\n",
    "import matplotlib.pyplot as plt\n",
    "import torch.nn.functional as F\n",
    "\n",
    "# 定义卷积神经网络\n",
    "class CNN(nn.Module):\n",
    "    def __init__(self):\n",
    "        super(CNN, self).__init__()\n",
    "        self.conv1 = nn.Conv2d(1, 32, kernel_size=3, stride=1, padding=1)  # 第一个卷积层\n",
    "        self.conv2 = nn.Conv2d(32, 64, kernel_size=3, stride=1, padding=1)  # 第二个卷积层\n",
    "        self.pool = nn.MaxPool2d(kernel_size=2, stride=2, padding=0)  # 最大池化层\n",
    "        self.fc1 = nn.Linear(64 * 7 * 7, 128)  # 第一个全连接层\n",
    "        self.fc2 = nn.Linear(128, 10)  # 第二个全连接层\n",
    "\n",
    "    def forward(self, x):\n",
    "        x = self.pool(F.relu(self.conv1(x)))  # 卷积 -> ReLU -> 池化\n",
    "        x = self.pool(F.relu(self.conv2(x)))  # 卷积 -> ReLU -> 池化\n",
    "        x = x.view(-1, 64 * 7 * 7)  # 展平\n",
    "        x = F.relu(self.fc1(x))  # 全连接层 -> ReLU\n",
    "        x = self.fc2(x)  # 全连接层\n",
    "        return x\n",
    "\n",
    "# 实例化模型\n",
    "model = CNN()\n",
    "print(model)"
   ],
   "outputs": [],
   "execution_count": null
  },
  {
   "metadata": {},
   "cell_type": "markdown",
   "source": "# 构造卷积神经网络的前向传播和后向传播程序",
   "id": "3b1d6ac384e9e2aa"
  },
  {
   "metadata": {},
   "cell_type": "code",
   "source": [
    "# 定义损失函数和优化器\n",
    "criterion = nn.CrossEntropyLoss()\n",
    "optimizer = optim.SGD(model.parameters(), lr=0.01, momentum=0.9)\n",
    "\n",
    "# 定义前向传播和后向传播过程\n",
    "def train(model, trainloader, criterion, optimizer, epochs=5):\n",
    "    model.train()\n",
    "    for epoch in range(epochs):\n",
    "        running_loss = 0.0\n",
    "        for i, data in enumerate(trainloader, 0):\n",
    "            inputs, labels = data\n",
    "            optimizer.zero_grad()  # 清除梯度\n",
    "            outputs = model(inputs)  # 前向传播\n",
    "            loss = criterion(outputs, labels)  # 计算损失\n",
    "            loss.backward()  # 后向传播\n",
    "            optimizer.step()  # 更新参数\n",
    "\n",
    "            running_loss += loss.item()\n",
    "            if i % 200 == 199:  # 每200个batch打印一次损失\n",
    "                print(f\"[{epoch + 1}, {i + 1}] loss: {running_loss / 200:.3f}\")\n",
    "                running_loss = 0.0\n",
    "    print('Finished Training')"
   ],
   "id": "9e314582b1cab47d",
   "outputs": [],
   "execution_count": null
  },
  {
   "metadata": {},
   "cell_type": "markdown",
   "source": "# 训练卷积神经网络",
   "id": "f62bb4ce6e6ca533"
  },
  {
   "metadata": {},
   "cell_type": "code",
   "source": [
    "# 加载 MNIST 数据集\n",
    "transform = transforms.Compose([transforms.ToTensor(), transforms.Normalize((0.5,), (0.5,))])\n",
    "\n",
    "trainset = torchvision.datasets.MNIST(root='./data', train=True, download=True, transform=transform)\n",
    "trainloader = torch.utils.data.DataLoader(trainset, batch_size=100, shuffle=True, num_workers=2)\n",
    "\n",
    "testset = torchvision.datasets.MNIST(root='./data', train=False, download=True, transform=transform)\n",
    "testloader = torch.utils.data.DataLoader(testset, batch_size=100, shuffle=False, num_workers=2)\n",
    "\n",
    "# 训练模型\n",
    "train(model, trainloader, criterion, optimizer, epochs=5)"
   ],
   "id": "fe03018b3d122e09",
   "outputs": [],
   "execution_count": null
  },
  {
   "metadata": {},
   "cell_type": "markdown",
   "source": "# 利用卷积神经网络实现 MNIST 手写体识别，并与多层感知器结果进行比较",
   "id": "6d7b871aca326e0a"
  },
  {
   "metadata": {},
   "cell_type": "code",
   "source": [
    "import numpy as np\n",
    "\n",
    "# 测试卷积神经网络\n",
    "def test(model, testloader):\n",
    "    model.eval()  # 设置为评估模式\n",
    "    correct = 0\n",
    "    total = 0\n",
    "    with torch.no_grad():\n",
    "        for data in testloader:\n",
    "            images, labels = data\n",
    "            outputs = model(images)\n",
    "            _, predicted = torch.max(outputs.data, 1)\n",
    "            total += labels.size(0)\n",
    "            correct += (predicted == labels).sum().item()\n",
    "\n",
    "    print(f'Accuracy of the network on the 10000 test images: {100 * correct / total:.2f}%')\n",
    "\n",
    "# 测试模型\n",
    "test(model, testloader)\n",
    "\n",
    "# 可视化一些测试结果\n",
    "dataiter = iter(testloader)\n",
    "images, labels = next(dataiter)  # 使用 next 函数\n",
    "outputs = model(images)\n",
    "_, predicted = torch.max(outputs, 1)\n",
    "\n",
    "# 显示图片\n",
    "def imshow(img):\n",
    "    img = img / 2 + 0.5  # 反归一化\n",
    "    npimg = img.numpy()\n",
    "    plt.imshow(np.transpose(npimg, (1, 2, 0)))\n",
    "    plt.show()\n",
    "\n",
    "# 打印前5个图像及其预测标签\n",
    "imshow(torchvision.utils.make_grid(images[:5]))\n",
    "print('GroundTruth: ', ' '.join(f'{labels[j]}' for j in range(5)))\n",
    "print('Predicted: ', ' '.join(f'{predicted[j]}' for j in range(5)))"
   ],
   "id": "5f776db3f3628c",
   "outputs": [],
   "execution_count": null
  }
 ],
 "metadata": {
  "kernelspec": {
   "display_name": "Python 3",
   "language": "python",
   "name": "python3"
  },
  "language_info": {
   "codemirror_mode": {
    "name": "ipython",
    "version": 2
   },
   "file_extension": ".py",
   "mimetype": "text/x-python",
   "name": "python",
   "nbconvert_exporter": "python",
   "pygments_lexer": "ipython2",
   "version": "2.7.6"
  }
 },
 "nbformat": 4,
 "nbformat_minor": 5
}
