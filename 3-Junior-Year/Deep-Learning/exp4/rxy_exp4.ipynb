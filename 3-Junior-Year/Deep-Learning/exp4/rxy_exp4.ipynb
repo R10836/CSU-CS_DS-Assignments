{
 "cells": [
  {
   "metadata": {},
   "cell_type": "markdown",
   "source": "# 设计一个具有1个循环单元的循环神经网络（RNN）",
   "id": "99486a1acee09bd4"
  },
  {
   "cell_type": "code",
   "id": "initial_id",
   "metadata": {
    "collapsed": true
   },
   "source": [
    "import torch\n",
    "import torch.nn as nn\n",
    "import torch.optim as optim\n",
    "import torchvision\n",
    "import torchvision.transforms as transforms\n",
    "import matplotlib.pyplot as plt\n",
    "\n",
    "# 定义循环神经网络\n",
    "class RNN(nn.Module):\n",
    "    def __init__(self, input_size, hidden_size, output_size):\n",
    "        super(RNN, self).__init__()\n",
    "        self.hidden_size = hidden_size\n",
    "        self.rnn = nn.RNN(input_size, hidden_size, batch_first=True)\n",
    "        self.fc1 = nn.Linear(hidden_size, 128)\n",
    "        self.fc2 = nn.Linear(128, output_size)\n",
    "\n",
    "    def forward(self, x):\n",
    "        h0 = torch.zeros(1, x.size(0), self.hidden_size).to(x.device)\n",
    "        out, _ = self.rnn(x, h0)\n",
    "        out = self.fc1(out[:, -1, :])\n",
    "        out = self.fc2(out)\n",
    "        return out\n",
    "\n",
    "# 实例化模型\n",
    "input_size = 28\n",
    "hidden_size = 128\n",
    "output_size = 10\n",
    "model = RNN(input_size, hidden_size, output_size)\n",
    "print(model)"
   ],
   "outputs": [],
   "execution_count": null
  },
  {
   "metadata": {},
   "cell_type": "markdown",
   "source": "# 构造循环神经网络的前向传播和后向传播程序",
   "id": "c4b5446144281e84"
  },
  {
   "metadata": {},
   "cell_type": "code",
   "source": [
    "# 定义损失函数和优化器\n",
    "criterion = nn.CrossEntropyLoss()\n",
    "optimizer = optim.Adam(model.parameters(), lr=0.001)\n",
    "\n",
    "# 定义前向传播和后向传播过程\n",
    "def train(model, trainloader, criterion, optimizer, epochs=5):\n",
    "    model.train()\n",
    "    for epoch in range(epochs):\n",
    "        running_loss = 0.0\n",
    "        for i, data in enumerate(trainloader, 0):\n",
    "            inputs, labels = data\n",
    "            inputs = inputs.view(-1, 28, 28)  # 重新调整输入的形状\n",
    "            optimizer.zero_grad()  # 清除梯度\n",
    "            outputs = model(inputs)  # 前向传播\n",
    "            loss = criterion(outputs, labels)  # 计算损失\n",
    "            loss.backward()  # 后向传播\n",
    "            optimizer.step()  # 更新参数\n",
    "\n",
    "            running_loss += loss.item()\n",
    "            if i % 200 == 199:  # 每200个batch打印一次损失\n",
    "                print(f\"[{epoch + 1}, {i + 1}] loss: {running_loss / 200:.3f}\")\n",
    "                running_loss = 0.0\n",
    "    print('Finished Training')"
   ],
   "id": "85da9b16ca3544b",
   "outputs": [],
   "execution_count": null
  },
  {
   "metadata": {},
   "cell_type": "markdown",
   "source": "# 训练循环神经网络",
   "id": "61fcde1703dcffc1"
  },
  {
   "metadata": {},
   "cell_type": "code",
   "source": [
    "# 加载 MNIST 数据集\n",
    "transform = transforms.Compose([transforms.ToTensor(), transforms.Normalize((0.5,), (0.5,))])\n",
    "\n",
    "trainset = torchvision.datasets.MNIST(root='./data', train=True, download=True, transform=transform)\n",
    "trainloader = torch.utils.data.DataLoader(trainset, batch_size=100, shuffle=True, num_workers=2)\n",
    "\n",
    "testset = torchvision.datasets.MNIST(root='./data', train=False, download=True, transform=transform)\n",
    "testloader = torch.utils.data.DataLoader(testset, batch_size=100, shuffle=False, num_workers=2)\n",
    "\n",
    "# 训练模型\n",
    "train(model, trainloader, criterion, optimizer, epochs=5)"
   ],
   "id": "b9bba989f51af6e7",
   "outputs": [],
   "execution_count": null
  },
  {
   "metadata": {},
   "cell_type": "markdown",
   "source": "# 利用循环神经网络实现 MNIST 手写体识别，并与卷积神经网络、多层感知器结果进行比较",
   "id": "1bf4e2b6f479da15"
  },
  {
   "metadata": {},
   "cell_type": "code",
   "source": [
    "import numpy as np\n",
    "\n",
    "# 测试循环神经网络\n",
    "def test(model, testloader):\n",
    "    model.eval()  # 设置为评估模式\n",
    "    correct = 0\n",
    "    total = 0\n",
    "    with torch.no_grad():\n",
    "        for data in testloader:\n",
    "            images, labels = data\n",
    "            images = images.view(-1, 28, 28)  # 重新调整输入的形状\n",
    "            outputs = model(images)\n",
    "            _, predicted = torch.max(outputs.data, 1)\n",
    "            total += labels.size(0)\n",
    "            correct += (predicted == labels).sum().item()\n",
    "\n",
    "    print(f'Accuracy of the network on the 10000 test images: {100 * correct / total:.2f}%')\n",
    "\n",
    "# 测试模型\n",
    "test(model, testloader)\n",
    "\n",
    "# 可视化一些测试结果\n",
    "dataiter = iter(testloader)\n",
    "images, labels = next(dataiter)  # 使用 next 函数\n",
    "images = images.view(-1, 28, 28)  # 重新调整输入的形状\n",
    "outputs = model(images)\n",
    "_, predicted = torch.max(outputs, 1)\n",
    "\n",
    "# 显示图片\n",
    "def imshow(img):\n",
    "    img = img / 2 + 0.5  # 反归一化\n",
    "    npimg = img.numpy()\n",
    "    plt.imshow(np.transpose(npimg, (1, 2, 0)))\n",
    "    plt.show()\n",
    "\n",
    "# 打印前5个图像及其预测标签\n",
    "imshow(torchvision.utils.make_grid(images[:5].view(-1, 1, 28, 28)))\n",
    "print('GroundTruth: ', ' '.join(f'{labels[j]}' for j in range(5)))\n",
    "print('Predicted: ', ' '.join(f'{predicted[j]}' for j in range(5)))"
   ],
   "id": "1267a99ceb084d89",
   "outputs": [],
   "execution_count": null
  }
 ],
 "metadata": {
  "kernelspec": {
   "display_name": "Python 3",
   "language": "python",
   "name": "python3"
  },
  "language_info": {
   "codemirror_mode": {
    "name": "ipython",
    "version": 2
   },
   "file_extension": ".py",
   "mimetype": "text/x-python",
   "name": "python",
   "nbconvert_exporter": "python",
   "pygments_lexer": "ipython2",
   "version": "2.7.6"
  }
 },
 "nbformat": 4,
 "nbformat_minor": 5
}
