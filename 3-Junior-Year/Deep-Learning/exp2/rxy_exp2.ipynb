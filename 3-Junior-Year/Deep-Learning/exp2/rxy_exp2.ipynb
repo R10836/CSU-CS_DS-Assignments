{
 "cells": [
  {
   "metadata": {},
   "cell_type": "markdown",
   "source": [
    "# 设计一个具有单隐层的多层感知器网络\n",
    "\n",
    "我们首先定义一个多层感知器类 MLP，该类继承自 nn.Module。这个网络包含一个输入层（784 个节点，对应 28x28 的图像）、一个隐藏层（128 个节点）和一个输出层（10 个节点，对应 10 个分类）。"
   ],
   "id": "4c13e77b577882b9"
  },
  {
   "cell_type": "code",
   "id": "initial_id",
   "metadata": {
    "collapsed": true
   },
   "source": [
    "import torch\n",
    "import torch.nn as nn\n",
    "import torch.optim as optim\n",
    "import torchvision\n",
    "import torchvision.transforms as transforms\n",
    "import matplotlib.pyplot as plt\n",
    "\n",
    "# 定义多层感知器网络\n",
    "class MLP(nn.Module):\n",
    "    def __init__(self):\n",
    "        super(MLP, self).__init__()\n",
    "        self.hidden = nn.Linear(784, 128)  # 隐藏层\n",
    "        self.relu = nn.ReLU()\n",
    "        self.output = nn.Linear(128, 10)  # 输出层\n",
    "\n",
    "    def forward(self, x):\n",
    "        x = x.view(-1, 784)  # 将输入展平为 1D 向量\n",
    "        x = self.hidden(x)\n",
    "        x = self.relu(x)\n",
    "        x = self.output(x)\n",
    "        return x\n",
    "\n",
    "# 实例化模型\n",
    "model = MLP()\n",
    "print(model)\n"
   ],
   "outputs": [],
   "execution_count": null
  },
  {
   "metadata": {},
   "cell_type": "markdown",
   "source": [
    "MLP(\n",
    "  (hidden): Linear(in_features=784, out_features=128, bias=True)\n",
    "  (relu): ReLU()\n",
    "  (output): Linear(in_features=128, out_features=10, bias=True)\n",
    ")"
   ],
   "id": "5572bc32f5880a53"
  },
  {
   "metadata": {},
   "cell_type": "markdown",
   "source": [
    "# 构造多层感知器前向传播和后向传播程序\n",
    "\n",
    "我们定义损失函数和优化器，并编写训练函数，该函数包括前向传播、损失计算、后向传播和参数更新。"
   ],
   "id": "72da551f86bc646"
  },
  {
   "metadata": {},
   "cell_type": "code",
   "source": [
    "# 定义损失函数和优化器\n",
    "criterion = nn.CrossEntropyLoss()\n",
    "optimizer = optim.SGD(model.parameters(), lr=0.01, momentum=0.9)\n",
    "\n",
    "# 定义前向传播和后向传播过程\n",
    "def train(model, trainloader, criterion, optimizer, epochs=5):\n",
    "    model.train()\n",
    "    for epoch in range(epochs):\n",
    "        running_loss = 0.0\n",
    "        for i, data in enumerate(trainloader, 0):\n",
    "            inputs, labels = data\n",
    "            optimizer.zero_grad()\n",
    "            outputs = model(inputs)\n",
    "            loss = criterion(outputs, labels)\n",
    "            loss.backward()\n",
    "            optimizer.step()\n",
    "\n",
    "            running_loss += loss.item()\n",
    "            if i % 200 == 199:\n",
    "                print(f\"[{epoch + 1}, {i + 1}] loss: {running_loss / 200:.3f}\")\n",
    "                running_loss = 0.0\n",
    "    print('Finished Training')\n"
   ],
   "id": "25519cf1162e17ca",
   "outputs": [],
   "execution_count": null
  },
  {
   "metadata": {},
   "cell_type": "markdown",
   "source": [
    "# 训练多层感知器\n",
    "\n",
    "我们加载 MNIST 数据集，并使用上述的 train 函数训练模型。"
   ],
   "id": "e6c46b3059b5c56"
  },
  {
   "metadata": {},
   "cell_type": "code",
   "source": [
    "# 加载 MNIST 数据集\n",
    "transform = transforms.Compose([transforms.ToTensor(), transforms.Normalize((0.5,), (0.5,))])\n",
    "\n",
    "trainset = torchvision.datasets.MNIST(root='./data', train=True, download=True, transform=transform)\n",
    "trainloader = torch.utils.data.DataLoader(trainset, batch_size=100, shuffle=True, num_workers=2)\n",
    "\n",
    "testset = torchvision.datasets.MNIST(root='./data', train=False, download=True, transform=transform)\n",
    "testloader = torch.utils.data.DataLoader(testset, batch_size=100, shuffle=False, num_workers=2)\n",
    "\n",
    "# 训练模型\n",
    "train(model, trainloader, criterion, optimizer, epochs=5)\n"
   ],
   "id": "7ff3f3d931744486",
   "outputs": [],
   "execution_count": null
  },
  {
   "metadata": {},
   "cell_type": "markdown",
   "source": [
    "Extracting ./data\\MNIST\\raw\\t10k-labels-idx1-ubyte.gz to ./data\\MNIST\\raw\n",
    "\n",
    "[1, 200] loss: 0.657\n",
    "[1, 400] loss: 0.330\n",
    "[1, 600] loss: 0.282\n",
    "[2, 200] loss: 0.230\n",
    "[2, 400] loss: 0.207\n",
    "[2, 600] loss: 0.193\n",
    "[3, 200] loss: 0.165\n",
    "[3, 400] loss: 0.157\n",
    "[3, 600] loss: 0.146\n",
    "[4, 200] loss: 0.129\n",
    "[4, 400] loss: 0.124\n",
    "[4, 600] loss: 0.121\n",
    "[5, 200] loss: 0.106\n",
    "[5, 400] loss: 0.101\n",
    "[5, 600] loss: 0.108\n",
    "Finished Training"
   ],
   "id": "c48ac67b3a4069a2"
  },
  {
   "metadata": {},
   "cell_type": "markdown",
   "source": [
    "# 利用多层感知器实现 MNIST 手写体识别\n",
    "\n",
    "我们定义一个测试函数，用于评估模型在测试集上的性能，并可视化一些测试结果。"
   ],
   "id": "1669759394c0a92a"
  },
  {
   "metadata": {},
   "cell_type": "code",
   "source": [
    "import numpy as np\n",
    "\n",
    "# 测试多层感知器\n",
    "def test(model, testloader):\n",
    "    model.eval()\n",
    "    correct = 0\n",
    "    total = 0\n",
    "    with torch.no_grad():\n",
    "        for data in testloader:\n",
    "            images, labels = data\n",
    "            outputs = model(images)\n",
    "            _, predicted = torch.max(outputs.data, 1)\n",
    "            total += labels.size(0)\n",
    "            correct += (predicted == labels).sum().item()\n",
    "\n",
    "    print(f'Accuracy of the network on the 10000 test images: {100 * correct / total:.2f}%')\n",
    "\n",
    "# 测试模型\n",
    "test(model, testloader)\n",
    "\n",
    "# 可视化一些测试结果\n",
    "dataiter = iter(testloader)\n",
    "images, labels = next(dataiter)\n",
    "outputs = model(images)\n",
    "_, predicted = torch.max(outputs, 1)\n",
    "\n",
    "# 显示图片\n",
    "def imshow(img):\n",
    "    img = img / 2 + 0.5  # 反归一化\n",
    "    npimg = img.numpy()\n",
    "    plt.imshow(np.transpose(npimg, (1, 2, 0)))\n",
    "    plt.show()\n",
    "\n",
    "# 打印前5个图像及其预测标签\n",
    "imshow(torchvision.utils.make_grid(images[:5]))\n",
    "print('GroundTruth: ', ' '.join(f'{labels[j]}' for j in range(5)))\n",
    "print('Predicted: ', ' '.join(f'{predicted[j]}' for j in range(5)))\n"
   ],
   "id": "666f2e58f577556e",
   "outputs": [],
   "execution_count": null
  },
  {
   "metadata": {},
   "cell_type": "markdown",
   "source": [
    "Accuracy of the network on the 10000 test images: 96.88%\n",
    "\n",
    "图片（见报告）\n",
    "\n",
    "GroundTruth:  7 2 1 0 4\n",
    "Predicted:  7 2 1 0 4"
   ],
   "id": "cf1fe0f52203795c"
  }
 ],
 "metadata": {
  "kernelspec": {
   "display_name": "Python 3",
   "language": "python",
   "name": "python3"
  },
  "language_info": {
   "codemirror_mode": {
    "name": "ipython",
    "version": 2
   },
   "file_extension": ".py",
   "mimetype": "text/x-python",
   "name": "python",
   "nbconvert_exporter": "python",
   "pygments_lexer": "ipython2",
   "version": "2.7.6"
  }
 },
 "nbformat": 4,
 "nbformat_minor": 5
}
